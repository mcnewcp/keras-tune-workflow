{
 "cells": [
  {
   "attachments": {},
   "cell_type": "markdown",
   "metadata": {},
   "source": [
    "# Purpose\n",
    "\n",
    "This notebook works through an example workflow using [hyperopt](http://hyperopt.github.io/hyperopt/) to tune a Keras model, while tracking the results with MLFlow.\n",
    "\n",
    "# Data\n",
    "\n",
    "The CA housing data will be used for this example, which is a simple regressiont task. It will be loaded from the `sklearn` data loader.  I'll split off 20% into a test set and an additional 20% into a validation set.  Finally, I'll standardize the data using `StandardScaler` ahead of modeling."
   ]
  },
  {
   "cell_type": "code",
   "execution_count": 1,
   "metadata": {},
   "outputs": [
    {
     "data": {
      "text/html": [
       "<div>\n",
       "<style scoped>\n",
       "    .dataframe tbody tr th:only-of-type {\n",
       "        vertical-align: middle;\n",
       "    }\n",
       "\n",
       "    .dataframe tbody tr th {\n",
       "        vertical-align: top;\n",
       "    }\n",
       "\n",
       "    .dataframe thead th {\n",
       "        text-align: right;\n",
       "    }\n",
       "</style>\n",
       "<table border=\"1\" class=\"dataframe\">\n",
       "  <thead>\n",
       "    <tr style=\"text-align: right;\">\n",
       "      <th></th>\n",
       "      <th>MedInc</th>\n",
       "      <th>HouseAge</th>\n",
       "      <th>AveRooms</th>\n",
       "      <th>AveBedrms</th>\n",
       "      <th>Population</th>\n",
       "      <th>AveOccup</th>\n",
       "      <th>Latitude</th>\n",
       "      <th>Longitude</th>\n",
       "    </tr>\n",
       "  </thead>\n",
       "  <tbody>\n",
       "    <tr>\n",
       "      <th>count</th>\n",
       "      <td>1.320900e+04</td>\n",
       "      <td>1.320900e+04</td>\n",
       "      <td>1.320900e+04</td>\n",
       "      <td>1.320900e+04</td>\n",
       "      <td>1.320900e+04</td>\n",
       "      <td>1.320900e+04</td>\n",
       "      <td>1.320900e+04</td>\n",
       "      <td>1.320900e+04</td>\n",
       "    </tr>\n",
       "    <tr>\n",
       "      <th>mean</th>\n",
       "      <td>-8.609730e-15</td>\n",
       "      <td>1.325981e-16</td>\n",
       "      <td>-3.962342e-15</td>\n",
       "      <td>-5.891335e-15</td>\n",
       "      <td>7.853679e-17</td>\n",
       "      <td>6.024740e-17</td>\n",
       "      <td>5.788053e-16</td>\n",
       "      <td>1.875900e-13</td>\n",
       "    </tr>\n",
       "    <tr>\n",
       "      <th>std</th>\n",
       "      <td>1.000038e+00</td>\n",
       "      <td>1.000038e+00</td>\n",
       "      <td>1.000038e+00</td>\n",
       "      <td>1.000038e+00</td>\n",
       "      <td>1.000038e+00</td>\n",
       "      <td>1.000038e+00</td>\n",
       "      <td>1.000038e+00</td>\n",
       "      <td>1.000038e+00</td>\n",
       "    </tr>\n",
       "    <tr>\n",
       "      <th>min</th>\n",
       "      <td>-1.765977e+00</td>\n",
       "      <td>-2.192404e+00</td>\n",
       "      <td>-1.845222e+00</td>\n",
       "      <td>-1.557108e+00</td>\n",
       "      <td>-1.216098e+00</td>\n",
       "      <td>-1.900291e-01</td>\n",
       "      <td>-1.445563e+00</td>\n",
       "      <td>-2.402163e+00</td>\n",
       "    </tr>\n",
       "    <tr>\n",
       "      <th>25%</th>\n",
       "      <td>-6.853710e-01</td>\n",
       "      <td>-8.377356e-01</td>\n",
       "      <td>-4.057340e-01</td>\n",
       "      <td>-1.860147e-01</td>\n",
       "      <td>-5.480511e-01</td>\n",
       "      <td>-5.372921e-02</td>\n",
       "      <td>-7.926102e-01</td>\n",
       "      <td>-1.110003e+00</td>\n",
       "    </tr>\n",
       "    <tr>\n",
       "      <th>50%</th>\n",
       "      <td>-1.788677e-01</td>\n",
       "      <td>3.881461e-02</td>\n",
       "      <td>-8.074580e-02</td>\n",
       "      <td>-9.858909e-02</td>\n",
       "      <td>-2.221328e-01</td>\n",
       "      <td>-2.317569e-02</td>\n",
       "      <td>-6.422903e-01</td>\n",
       "      <td>5.327435e-01</td>\n",
       "    </tr>\n",
       "    <tr>\n",
       "      <th>75%</th>\n",
       "      <td>4.564668e-01</td>\n",
       "      <td>6.763056e-01</td>\n",
       "      <td>2.536591e-01</td>\n",
       "      <td>5.452616e-03</td>\n",
       "      <td>2.454150e-01</td>\n",
       "      <td>1.209641e-02</td>\n",
       "      <td>9.783469e-01</td>\n",
       "      <td>7.781538e-01</td>\n",
       "    </tr>\n",
       "    <tr>\n",
       "      <th>max</th>\n",
       "      <td>5.803226e+00</td>\n",
       "      <td>1.871601e+00</td>\n",
       "      <td>5.157842e+01</td>\n",
       "      <td>6.723061e+01</td>\n",
       "      <td>2.922314e+01</td>\n",
       "      <td>9.689713e+01</td>\n",
       "      <td>2.974784e+00</td>\n",
       "      <td>2.546109e+00</td>\n",
       "    </tr>\n",
       "  </tbody>\n",
       "</table>\n",
       "</div>"
      ],
      "text/plain": [
       "             MedInc      HouseAge      AveRooms     AveBedrms    Population  \\\n",
       "count  1.320900e+04  1.320900e+04  1.320900e+04  1.320900e+04  1.320900e+04   \n",
       "mean  -8.609730e-15  1.325981e-16 -3.962342e-15 -5.891335e-15  7.853679e-17   \n",
       "std    1.000038e+00  1.000038e+00  1.000038e+00  1.000038e+00  1.000038e+00   \n",
       "min   -1.765977e+00 -2.192404e+00 -1.845222e+00 -1.557108e+00 -1.216098e+00   \n",
       "25%   -6.853710e-01 -8.377356e-01 -4.057340e-01 -1.860147e-01 -5.480511e-01   \n",
       "50%   -1.788677e-01  3.881461e-02 -8.074580e-02 -9.858909e-02 -2.221328e-01   \n",
       "75%    4.564668e-01  6.763056e-01  2.536591e-01  5.452616e-03  2.454150e-01   \n",
       "max    5.803226e+00  1.871601e+00  5.157842e+01  6.723061e+01  2.922314e+01   \n",
       "\n",
       "           AveOccup      Latitude     Longitude  \n",
       "count  1.320900e+04  1.320900e+04  1.320900e+04  \n",
       "mean   6.024740e-17  5.788053e-16  1.875900e-13  \n",
       "std    1.000038e+00  1.000038e+00  1.000038e+00  \n",
       "min   -1.900291e-01 -1.445563e+00 -2.402163e+00  \n",
       "25%   -5.372921e-02 -7.926102e-01 -1.110003e+00  \n",
       "50%   -2.317569e-02 -6.422903e-01  5.327435e-01  \n",
       "75%    1.209641e-02  9.783469e-01  7.781538e-01  \n",
       "max    9.689713e+01  2.974784e+00  2.546109e+00  "
      ]
     },
     "execution_count": 1,
     "metadata": {},
     "output_type": "execute_result"
    }
   ],
   "source": [
    "from sklearn.datasets import fetch_california_housing\n",
    "from sklearn.model_selection import train_test_split\n",
    "from sklearn.preprocessing import StandardScaler\n",
    "import pandas as pd\n",
    "\n",
    "housing = fetch_california_housing()\n",
    "\n",
    "X_train_full, X_test, y_train_full, y_test = train_test_split(\n",
    "    housing.data, housing.target, test_size=0.2\n",
    ")\n",
    "X_train, X_valid, y_train, y_valid = train_test_split(\n",
    "    X_train_full, y_train_full, test_size=0.2\n",
    ")\n",
    "\n",
    "scaler = StandardScaler()\n",
    "X_train = scaler.fit_transform(X_train)\n",
    "X_valid = scaler.transform(X_valid)\n",
    "X_test = scaler.transform(X_test)\n",
    "\n",
    "pd.DataFrame(X_train, columns=housing.feature_names).describe()"
   ]
  },
  {
   "cell_type": "code",
   "execution_count": 2,
   "metadata": {},
   "outputs": [],
   "source": [
    "train_data = (X_train, {\"main_output\": y_train, \"aux_output\": y_train})\n",
    "val_data = (X_valid, {\"main_output\": y_valid, \"aux_output\": y_valid})"
   ]
  },
  {
   "attachments": {},
   "cell_type": "markdown",
   "metadata": {},
   "source": [
    "# Model\n",
    "\n",
    "The model used for this example will be a wide and deep network with the following characteristics:\n",
    "- a deep path with `n_hidden` hidden layers with `n_neurons` at each layer\n",
    "- a wide path connecting all inputs to the output\n",
    "- all layers are fully connected\n",
    "- two outpus:\n",
    "    - one from the deep path alone, fit to the target\n",
    "    - one from the concatenaded wide and deep paths, fit to the target\n",
    "\n",
    "This type of multi-output architecture is usually used as a regularization technique, but I'm simply employing it here so my example has more than one loss to simultaneously minimize.  This model is very similar to the regression example I used in my [intro to Keras](https://github.com/mcnewcp/book-geron-ml-sklearn-keras-tensorflow/blob/main/10-intro-ann-keras/10-intro-ann-keras.ipynb) notebook and from Chapter 10 of [Hands on ML](https://www.oreilly.com/library/view/hands-on-machine-learning/9781492032632/), so I won't explain the Keras code below.\n",
    "\n",
    "The model build code should be functionalized so that the hyperparameters are generalized in the build and compile steps for integration into hyperparameter tuning.  I'm pulling out the following hyperparameters for tuning:\n",
    "- `n_hidden`: number of hidden layers\n",
    "- `n_neurons`: number of neurons per layer\n",
    "- `activation`: activation funciton used in hidden layers\n",
    "\n",
    "*Note*: I'm not tuning learning rate here.  In general I think it's best practice to choose a sufficiently low learning rate, high number of epochs, and use early stopping.  The goal of this stage of hyperparameter tuning is to simply identify promising model candidates.  Once promising candidates have been identified, the learning rate will be fine tuned."
   ]
  },
  {
   "cell_type": "code",
   "execution_count": 3,
   "metadata": {},
   "outputs": [
    {
     "name": "stderr",
     "output_type": "stream",
     "text": [
      "2023-02-16 19:40:01.069286: I tensorflow/core/platform/cpu_feature_guard.cc:193] This TensorFlow binary is optimized with oneAPI Deep Neural Network Library (oneDNN) to use the following CPU instructions in performance-critical operations:  AVX2 FMA\n",
      "To enable them in other operations, rebuild TensorFlow with the appropriate compiler flags.\n"
     ]
    },
    {
     "name": "stdout",
     "output_type": "stream",
     "text": [
      "tf version: 2.11.0 , keras version: 2.11.0\n"
     ]
    }
   ],
   "source": [
    "import tensorflow as tf\n",
    "from tensorflow import keras\n",
    "\n",
    "print(\"tf version:\", tf.__version__, \", keras version:\", keras.__version__)\n",
    "\n"
   ]
  },
  {
   "cell_type": "code",
   "execution_count": 4,
   "metadata": {},
   "outputs": [],
   "source": [
    "def build_model(n_hidden=1, n_neurons=20, activation=\"relu\"):\n",
    "    inp = keras.layers.Input(shape=[8], name=\"input\")  # input layer\n",
    "    for layer in range(n_hidden):  # sequentially add hidden layers\n",
    "        if layer == 0:\n",
    "            hl = keras.layers.Dense(n_neurons, activation=activation)(inp)\n",
    "        else:\n",
    "            hl = keras.layers.Dense(n_neurons, activation=activation)(hl)\n",
    "    concat = keras.layers.Concatenate()([hl, inp])  # concat deep and wide paths\n",
    "    main_output = keras.layers.Dense(1, name=\"main_output\")(concat)  # combined output\n",
    "    aux_output = keras.layers.Dense(1, name=\"aux_output\")(hl)  # deep output\n",
    "    model = keras.Model(inputs=[inp], outputs=[main_output, aux_output])\n",
    "    model.compile(\n",
    "        loss={\"main_output\": \"mse\", \"aux_output\": \"mse\"},\n",
    "        loss_weights={\n",
    "            \"main_output\": 0.9,\n",
    "            \"aux_output\": 0.1,\n",
    "        },  # weighting heavily towards main output\n",
    "        optimizer=keras.optimizers.SGD(learning_rate=1e-3),\n",
    "    )\n",
    "    return model"
   ]
  },
  {
   "attachments": {},
   "cell_type": "markdown",
   "metadata": {},
   "source": [
    "# Hyperopt with Validation Split\n",
    "\n",
    "[Hyperopt](http://hyperopt.github.io/hyperopt/) is an optimization library commonly used to tune hyperparameters during model experimentation, though it is an entirely general package.  It will search through an arbitrarily complex search space to minimize and objective function.  The steps of using hyperopt include:\n",
    "1. define objective function\n",
    "2. define search space\n",
    "3. run the minimization"
   ]
  },
  {
   "attachments": {},
   "cell_type": "markdown",
   "metadata": {},
   "source": [
    "## Objective Function\n",
    "\n",
    "Hyperopt works by changing values in your hyperparameter space and evaluating the objective function to receive a score (`loss`).  It then investigates promising areas of the search space more thoroughly.  The objective function should take in the chosen values of hyperparameters and output a loss for minimization and a status.  It can also output anything else you'd like to log in the trials object, but I won't include anything else here.\n",
    "\n",
    "I'm going to import `fit_eval_log()` from utils to fit and evaluate the model, as well as log all results to MLFlow.  This was generalized from my [MLFlow workflow notebook](https://github.com/mcnewcp/keras-tune-workflow/blob/main/01-mlflow.ipynb) so I won't explain it further here."
   ]
  },
  {
   "cell_type": "code",
   "execution_count": 5,
   "metadata": {},
   "outputs": [],
   "source": [
    "from utils import fit_eval_log\n",
    "from hyperopt import STATUS_OK\n",
    "\n",
    "def objective(hyper_params):\n",
    "    model = build_model(**hyper_params)\n",
    "    run_name = \"test-hp\"\n",
    "    val_loss = fit_eval_log(\n",
    "        run_name=run_name,\n",
    "        train_data=train_data,\n",
    "        val_data=val_data,\n",
    "        model=model,\n",
    "        hyper_params=hyper_params,\n",
    "    )\n",
    "    return {\"loss\": val_loss, \"status\": STATUS_OK}\n"
   ]
  },
  {
   "attachments": {},
   "cell_type": "markdown",
   "metadata": {},
   "source": [
    "## Search Space\n",
    "\n",
    "The hyperparameter search space needs to be set up in a way to inform hyperopt not only the bounds of the hyperparameters but also how to choose values in between the bounds.  This is done by using the most relevant parameter expression from `hyperopt.hp`.  The [documentation](http://hyperopt.github.io/hyperopt/getting-started/search_spaces/) lists all options, but the most relevant in my experience are:\n",
    "- `hp.choice()` chooses an option from a supplied list\n",
    "- `hp.uniform()` samples a continuous value between a lower and upper bound\n",
    "- `hp.quniform()` samples an integer between a lower and upper bound\n",
    "\n",
    "*Note*: there is an uresolved type issue around using `hp.quniform()` which is resolved by wrapping it in `scope.int()` from `hyperopt.pyll`.\n",
    "\n",
    "Below, I'll set up the search space for my example which includes number of neurons per layer, number of hidden layers, and activation function."
   ]
  },
  {
   "cell_type": "code",
   "execution_count": 6,
   "metadata": {},
   "outputs": [],
   "source": [
    "from hyperopt import hp\n",
    "from hyperopt.pyll import scope\n",
    "\n",
    "hyper_params = {\n",
    "    \"n_hidden\": scope.int(hp.quniform(\"n_hidden\", 1, 10, 1)),\n",
    "    \"n_neurons\": scope.int(hp.quniform(\"n_neurons\", 3, 50, 1)),\n",
    "    \"activation\": hp.choice(\"activation\", [\"relu\", \"sigmoid\", \"tanh\"]),\n",
    "}\n"
   ]
  },
  {
   "attachments": {},
   "cell_type": "markdown",
   "metadata": {},
   "source": [
    "## Minimize Objective\n",
    "\n",
    "Now to run the optimization, I'll use `fmin()` and ask hyperopt to suggest the best optimization algorithm with `tpe.suggest`.  You simply supply the objective function along with the search space and tell hyperopt how many trials you want to run, then it'll return the best trial along with a history of the trials in a `Trials()` object."
   ]
  },
  {
   "cell_type": "code",
   "execution_count": 7,
   "metadata": {},
   "outputs": [
    {
     "name": "stdout",
     "output_type": "stream",
     "text": [
      "  0%|          | 0/10 [00:00<?, ?trial/s, best loss=?]"
     ]
    },
    {
     "name": "stderr",
     "output_type": "stream",
     "text": [
      "2023-02-16 19:40:13.343605: I tensorflow/core/platform/cpu_feature_guard.cc:193] This TensorFlow binary is optimized with oneAPI Deep Neural Network Library (oneDNN) to use the following CPU instructions in performance-critical operations:  AVX2 FMA\n",
      "To enable them in other operations, rebuild TensorFlow with the appropriate compiler flags.\n"
     ]
    },
    {
     "name": "stdout",
     "output_type": "stream",
     "text": [
      "1/1 [==============================] - ETA: 0s        \n",
      "1/1 [==============================] - 0s 121ms/step \n",
      "\n",
      "  0%|          | 0/10 [00:17<?, ?trial/s, best loss=?]"
     ]
    },
    {
     "name": "stderr",
     "output_type": "stream",
     "text": [
      "WARNING:absl:Found untraced functions such as _update_step_xla while saving (showing 1 of 1). These functions will not be directly callable after loading.\n",
      "\n"
     ]
    },
    {
     "name": "stdout",
     "output_type": "stream",
     "text": [
      "INFO:tensorflow:Assets written to: /var/folders/m8/0_prp1tj41s9n5xm0bfqp6wm0000gn/T/tmpa46k49z7/model/data/model/assets\n"
     ]
    },
    {
     "name": "stderr",
     "output_type": "stream",
     "text": [
      "INFO:tensorflow:Assets written to: /var/folders/m8/0_prp1tj41s9n5xm0bfqp6wm0000gn/T/tmpa46k49z7/model/data/model/assets\n",
      "\n"
     ]
    },
    {
     "name": "stdout",
     "output_type": "stream",
     "text": [
      "1/1 [==============================] - ETA: 0s                                   \n",
      "1/1 [==============================] - 0s 64ms/step                             \n",
      "\n",
      " 10%|█         | 1/10 [00:41<04:03, 27.03s/trial, best loss: 0.42732077836990356]"
     ]
    },
    {
     "name": "stderr",
     "output_type": "stream",
     "text": [
      "WARNING:absl:Found untraced functions such as _update_step_xla while saving (showing 1 of 1). These functions will not be directly callable after loading.\n",
      "\n"
     ]
    },
    {
     "name": "stdout",
     "output_type": "stream",
     "text": [
      "INFO:tensorflow:Assets written to: /var/folders/m8/0_prp1tj41s9n5xm0bfqp6wm0000gn/T/tmpyenxje34/model/data/model/assets\n"
     ]
    },
    {
     "name": "stderr",
     "output_type": "stream",
     "text": [
      "INFO:tensorflow:Assets written to: /var/folders/m8/0_prp1tj41s9n5xm0bfqp6wm0000gn/T/tmpyenxje34/model/data/model/assets\n",
      "\n"
     ]
    },
    {
     "name": "stdout",
     "output_type": "stream",
     "text": [
      "1/1 [==============================] - ETA: 0s                                   \n",
      "1/1 [==============================] - 0s 110ms/step                            \n",
      "\n",
      " 20%|██        | 2/10 [01:06<03:17, 24.67s/trial, best loss: 0.42732077836990356]"
     ]
    },
    {
     "name": "stderr",
     "output_type": "stream",
     "text": [
      "WARNING:absl:Found untraced functions such as _update_step_xla while saving (showing 1 of 1). These functions will not be directly callable after loading.\n",
      "\n"
     ]
    },
    {
     "name": "stdout",
     "output_type": "stream",
     "text": [
      "INFO:tensorflow:Assets written to: /var/folders/m8/0_prp1tj41s9n5xm0bfqp6wm0000gn/T/tmpu7en3q0r/model/data/model/assets\n"
     ]
    },
    {
     "name": "stderr",
     "output_type": "stream",
     "text": [
      "INFO:tensorflow:Assets written to: /var/folders/m8/0_prp1tj41s9n5xm0bfqp6wm0000gn/T/tmpu7en3q0r/model/data/model/assets\n",
      "\n"
     ]
    },
    {
     "name": "stdout",
     "output_type": "stream",
     "text": [
      "1/1 [==============================] - ETA: 0s                                   \n",
      "1/1 [==============================] - 0s 110ms/step                            \n",
      "\n",
      " 30%|███       | 3/10 [01:33<02:57, 25.33s/trial, best loss: 0.41186773777008057]"
     ]
    },
    {
     "name": "stderr",
     "output_type": "stream",
     "text": [
      "WARNING:absl:Found untraced functions such as _update_step_xla while saving (showing 1 of 1). These functions will not be directly callable after loading.\n",
      "\n"
     ]
    },
    {
     "name": "stdout",
     "output_type": "stream",
     "text": [
      "INFO:tensorflow:Assets written to: /var/folders/m8/0_prp1tj41s9n5xm0bfqp6wm0000gn/T/tmpyp51ukbw/model/data/model/assets\n"
     ]
    },
    {
     "name": "stderr",
     "output_type": "stream",
     "text": [
      "INFO:tensorflow:Assets written to: /var/folders/m8/0_prp1tj41s9n5xm0bfqp6wm0000gn/T/tmpyp51ukbw/model/data/model/assets\n",
      "\n"
     ]
    },
    {
     "name": "stdout",
     "output_type": "stream",
     "text": [
      " 40%|████      | 4/10 [01:44<02:37, 26.32s/trial, best loss: 0.41186773777008057]WARNING:tensorflow:5 out of the last 5 calls to <function Model.make_predict_function.<locals>.predict_function at 0x7f82e25fddc0> triggered tf.function retracing. Tracing is expensive and the excessive number of tracings could be due to (1) creating @tf.function repeatedly in a loop, (2) passing tensors with different shapes, (3) passing Python objects instead of tensors. For (1), please define your @tf.function outside of the loop. For (2), @tf.function has reduce_retracing=True option that can avoid unnecessary retracing. For (3), please refer to https://www.tensorflow.org/guide/function#controlling_retracing and https://www.tensorflow.org/api_docs/python/tf/function for  more details.\n"
     ]
    },
    {
     "name": "stderr",
     "output_type": "stream",
     "text": [
      "WARNING:tensorflow:5 out of the last 5 calls to <function Model.make_predict_function.<locals>.predict_function at 0x7f82e25fddc0> triggered tf.function retracing. Tracing is expensive and the excessive number of tracings could be due to (1) creating @tf.function repeatedly in a loop, (2) passing tensors with different shapes, (3) passing Python objects instead of tensors. For (1), please define your @tf.function outside of the loop. For (2), @tf.function has reduce_retracing=True option that can avoid unnecessary retracing. For (3), please refer to https://www.tensorflow.org/guide/function#controlling_retracing and https://www.tensorflow.org/api_docs/python/tf/function for  more details.\n",
      "\n"
     ]
    },
    {
     "name": "stdout",
     "output_type": "stream",
     "text": [
      "1/1 [==============================] - ETA: 0s                                   \n",
      "1/1 [==============================] - 0s 108ms/step                            \n",
      "\n",
      " 40%|████      | 4/10 [02:08<02:37, 26.32s/trial, best loss: 0.41186773777008057]"
     ]
    },
    {
     "name": "stderr",
     "output_type": "stream",
     "text": [
      "WARNING:absl:Found untraced functions such as _update_step_xla while saving (showing 1 of 1). These functions will not be directly callable after loading.\n",
      "\n"
     ]
    },
    {
     "name": "stdout",
     "output_type": "stream",
     "text": [
      "INFO:tensorflow:Assets written to: /var/folders/m8/0_prp1tj41s9n5xm0bfqp6wm0000gn/T/tmp8ol7_oc0/model/data/model/assets\n"
     ]
    },
    {
     "name": "stderr",
     "output_type": "stream",
     "text": [
      "INFO:tensorflow:Assets written to: /var/folders/m8/0_prp1tj41s9n5xm0bfqp6wm0000gn/T/tmp8ol7_oc0/model/data/model/assets\n",
      "\n"
     ]
    },
    {
     "name": "stdout",
     "output_type": "stream",
     "text": [
      " 50%|█████     | 5/10 [02:22<02:32, 30.53s/trial, best loss: 0.41186773777008057]WARNING:tensorflow:6 out of the last 6 calls to <function Model.make_predict_function.<locals>.predict_function at 0x7f82e3f1cd30> triggered tf.function retracing. Tracing is expensive and the excessive number of tracings could be due to (1) creating @tf.function repeatedly in a loop, (2) passing tensors with different shapes, (3) passing Python objects instead of tensors. For (1), please define your @tf.function outside of the loop. For (2), @tf.function has reduce_retracing=True option that can avoid unnecessary retracing. For (3), please refer to https://www.tensorflow.org/guide/function#controlling_retracing and https://www.tensorflow.org/api_docs/python/tf/function for  more details.\n"
     ]
    },
    {
     "name": "stderr",
     "output_type": "stream",
     "text": [
      "WARNING:tensorflow:6 out of the last 6 calls to <function Model.make_predict_function.<locals>.predict_function at 0x7f82e3f1cd30> triggered tf.function retracing. Tracing is expensive and the excessive number of tracings could be due to (1) creating @tf.function repeatedly in a loop, (2) passing tensors with different shapes, (3) passing Python objects instead of tensors. For (1), please define your @tf.function outside of the loop. For (2), @tf.function has reduce_retracing=True option that can avoid unnecessary retracing. For (3), please refer to https://www.tensorflow.org/guide/function#controlling_retracing and https://www.tensorflow.org/api_docs/python/tf/function for  more details.\n",
      "\n"
     ]
    },
    {
     "name": "stdout",
     "output_type": "stream",
     "text": [
      "1/1 [==============================] - ETA: 0s                                   \n",
      "1/1 [==============================] - 0s 111ms/step                            \n",
      "\n",
      " 50%|█████     | 5/10 [02:42<02:32, 30.53s/trial, best loss: 0.41186773777008057]"
     ]
    },
    {
     "name": "stderr",
     "output_type": "stream",
     "text": [
      "WARNING:absl:Found untraced functions such as _update_step_xla while saving (showing 1 of 1). These functions will not be directly callable after loading.\n",
      "\n"
     ]
    },
    {
     "name": "stdout",
     "output_type": "stream",
     "text": [
      "INFO:tensorflow:Assets written to: /var/folders/m8/0_prp1tj41s9n5xm0bfqp6wm0000gn/T/tmp4m6kpw1t/model/data/model/assets\n"
     ]
    },
    {
     "name": "stderr",
     "output_type": "stream",
     "text": [
      "INFO:tensorflow:Assets written to: /var/folders/m8/0_prp1tj41s9n5xm0bfqp6wm0000gn/T/tmp4m6kpw1t/model/data/model/assets\n",
      "\n"
     ]
    },
    {
     "name": "stdout",
     "output_type": "stream",
     "text": [
      "1/1 [==============================] - ETA: 0s                                   \n",
      "1/1 [==============================] - 0s 59ms/step                             \n",
      "\n",
      " 60%|██████    | 6/10 [03:08<02:04, 31.04s/trial, best loss: 0.41186773777008057]"
     ]
    },
    {
     "name": "stderr",
     "output_type": "stream",
     "text": [
      "WARNING:absl:Found untraced functions such as _update_step_xla while saving (showing 1 of 1). These functions will not be directly callable after loading.\n",
      "\n"
     ]
    },
    {
     "name": "stdout",
     "output_type": "stream",
     "text": [
      "INFO:tensorflow:Assets written to: /var/folders/m8/0_prp1tj41s9n5xm0bfqp6wm0000gn/T/tmp5mw8zcrg/model/data/model/assets\n"
     ]
    },
    {
     "name": "stderr",
     "output_type": "stream",
     "text": [
      "INFO:tensorflow:Assets written to: /var/folders/m8/0_prp1tj41s9n5xm0bfqp6wm0000gn/T/tmp5mw8zcrg/model/data/model/assets\n",
      "\n"
     ]
    },
    {
     "name": "stdout",
     "output_type": "stream",
     "text": [
      "1/1 [==============================] - ETA: 0s                                   \n",
      "1/1 [==============================] - 0s 119ms/step                            \n",
      "\n",
      " 70%|███████   | 7/10 [03:52<01:26, 28.92s/trial, best loss: 0.41186773777008057]"
     ]
    },
    {
     "name": "stderr",
     "output_type": "stream",
     "text": [
      "WARNING:absl:Found untraced functions such as _update_step_xla while saving (showing 1 of 1). These functions will not be directly callable after loading.\n",
      "\n"
     ]
    },
    {
     "name": "stdout",
     "output_type": "stream",
     "text": [
      "INFO:tensorflow:Assets written to: /var/folders/m8/0_prp1tj41s9n5xm0bfqp6wm0000gn/T/tmpi48q0ww3/model/data/model/assets\n"
     ]
    },
    {
     "name": "stderr",
     "output_type": "stream",
     "text": [
      "INFO:tensorflow:Assets written to: /var/folders/m8/0_prp1tj41s9n5xm0bfqp6wm0000gn/T/tmpi48q0ww3/model/data/model/assets\n",
      "\n"
     ]
    },
    {
     "name": "stdout",
     "output_type": "stream",
     "text": [
      "1/1 [==============================] - ETA: 0s                                   \n",
      "1/1 [==============================] - 0s 85ms/step                             \n",
      "\n",
      " 80%|████████  | 8/10 [04:32<01:09, 34.69s/trial, best loss: 0.41186773777008057]"
     ]
    },
    {
     "name": "stderr",
     "output_type": "stream",
     "text": [
      "WARNING:absl:Found untraced functions such as _update_step_xla while saving (showing 1 of 1). These functions will not be directly callable after loading.\n",
      "\n"
     ]
    },
    {
     "name": "stdout",
     "output_type": "stream",
     "text": [
      "INFO:tensorflow:Assets written to: /var/folders/m8/0_prp1tj41s9n5xm0bfqp6wm0000gn/T/tmp5g5w4ruw/model/data/model/assets\n"
     ]
    },
    {
     "name": "stderr",
     "output_type": "stream",
     "text": [
      "INFO:tensorflow:Assets written to: /var/folders/m8/0_prp1tj41s9n5xm0bfqp6wm0000gn/T/tmp5g5w4ruw/model/data/model/assets\n",
      "\n"
     ]
    },
    {
     "name": "stdout",
     "output_type": "stream",
     "text": [
      "1/1 [==============================] - ETA: 0s                                   \n",
      "1/1 [==============================] - 0s 129ms/step                            \n",
      "\n",
      " 90%|█████████ | 9/10 [05:17<00:36, 36.12s/trial, best loss: 0.41186773777008057]"
     ]
    },
    {
     "name": "stderr",
     "output_type": "stream",
     "text": [
      "WARNING:absl:Found untraced functions such as _update_step_xla while saving (showing 1 of 1). These functions will not be directly callable after loading.\n",
      "\n"
     ]
    },
    {
     "name": "stdout",
     "output_type": "stream",
     "text": [
      "INFO:tensorflow:Assets written to: /var/folders/m8/0_prp1tj41s9n5xm0bfqp6wm0000gn/T/tmpm01t9x7e/model/data/model/assets\n"
     ]
    },
    {
     "name": "stderr",
     "output_type": "stream",
     "text": [
      "INFO:tensorflow:Assets written to: /var/folders/m8/0_prp1tj41s9n5xm0bfqp6wm0000gn/T/tmpm01t9x7e/model/data/model/assets\n",
      "\n"
     ]
    },
    {
     "name": "stdout",
     "output_type": "stream",
     "text": [
      "100%|██████████| 10/10 [05:31<00:00, 33.14s/trial, best loss: 0.41186773777008057]\n"
     ]
    }
   ],
   "source": [
    "from hyperopt import Trials, fmin, tpe\n",
    "import mlflow\n",
    "\n",
    "mlflow.set_experiment(experiment_name='test-hp')\n",
    "mlflow.tensorflow.autolog(silent=True)\n",
    "\n",
    "trials = Trials()\n",
    "best = fmin(\n",
    "    fn=objective,\n",
    "    space=hyper_params,\n",
    "    algo=tpe.suggest,\n",
    "    max_evals=10,\n",
    "    trials=trials,\n",
    "    verbose=1,\n",
    ")\n"
   ]
  },
  {
   "attachments": {},
   "cell_type": "markdown",
   "metadata": {},
   "source": [
    "## Evaluate Results\n",
    "\n",
    "The object returned by optimizationa above contains the best combination of hyperparameters.  To get them in the same form as our hyperparameter dictionary used in `build_model()` I'll use `space_eval()`.  I can then use them to build the best model and train on the full training set if I like.\n",
    "\n",
    "The `trials` object returned by the optimization run is a log of all the trials, including all of the associated hyperparameters, losses, statuses, and any other values we decided to pass from the objective function.  This object can be pickled and saved if desired.  I don't usually do this, especially if my runs are already logged in mlflow, but I'll show how below. One thing I do like to do, however, is plot a time series of the losses so I can see how efficiently the optimization ran and whether or not I can safely trim some evaluations off of `max_evals` for the next experiment."
   ]
  },
  {
   "cell_type": "code",
   "execution_count": 11,
   "metadata": {},
   "outputs": [
    {
     "name": "stdout",
     "output_type": "stream",
     "text": [
      "best hyperparameters: {'activation': 'tanh', 'n_hidden': 7, 'n_neurons': 24}\n"
     ]
    }
   ],
   "source": [
    "from hyperopt import space_eval\n",
    "\n",
    "# find best parameters\n",
    "best_params = space_eval(hyper_params, best)\n",
    "print(f\"best hyperparameters: {best_params}\")\n",
    "\n",
    "# build best model\n",
    "best_mod = build_model(**best_params)\n"
   ]
  },
  {
   "cell_type": "code",
   "execution_count": 12,
   "metadata": {},
   "outputs": [],
   "source": [
    "import pickle\n",
    "\n",
    "# save trials object\n",
    "pickle.dump(trials, open(\"./hp-trials/test-trial.p\", \"wb\"))\n",
    "\n",
    "# to load\n",
    "# check = pickle.load(open('./hp-trials/test-trial.p', 'rb'))\n"
   ]
  },
  {
   "cell_type": "code",
   "execution_count": 13,
   "metadata": {},
   "outputs": [
    {
     "data": {
      "image/png": "[encoded data removed]",
      "text/plain": [
       "<Figure size 640x480 with 1 Axes>"
      ]
     },
     "metadata": {},
     "output_type": "display_data"
    }
   ],
   "source": [
    "import matplotlib.pyplot as plt\n",
    "\n",
    "# plot time series of validation losses\n",
    "losses = [r[\"loss\"] for r in trials.results]\n",
    "plt.plot(losses)\n",
    "plt.axhline(min(losses), c=\"r\")\n",
    "\n",
    "plt.title(\"test experiment\")\n",
    "plt.xlabel(\"hp trial\")\n",
    "plt.ylabel(\"loss (MSE)\")\n",
    "plt.show()\n"
   ]
  },
  {
   "attachments": {},
   "cell_type": "markdown",
   "metadata": {},
   "source": [
    "# Hyperopt with Cross-Fold Validation\n",
    "\n",
    "## Full Training Set\n",
    "\n",
    "Since I'm using cross-fold validation, I don't need to split off a static dataset, so I'll reload `X_train` and `y_train` as the full training set.\n"
   ]
  },
  {
   "cell_type": "code",
   "execution_count": 16,
   "metadata": {},
   "outputs": [
    {
     "data": {
      "text/html": [
       "<div>\n",
       "<style scoped>\n",
       "    .dataframe tbody tr th:only-of-type {\n",
       "        vertical-align: middle;\n",
       "    }\n",
       "\n",
       "    .dataframe tbody tr th {\n",
       "        vertical-align: top;\n",
       "    }\n",
       "\n",
       "    .dataframe thead th {\n",
       "        text-align: right;\n",
       "    }\n",
       "</style>\n",
       "<table border=\"1\" class=\"dataframe\">\n",
       "  <thead>\n",
       "    <tr style=\"text-align: right;\">\n",
       "      <th></th>\n",
       "      <th>MedInc</th>\n",
       "      <th>HouseAge</th>\n",
       "      <th>AveRooms</th>\n",
       "      <th>AveBedrms</th>\n",
       "      <th>Population</th>\n",
       "      <th>AveOccup</th>\n",
       "      <th>Latitude</th>\n",
       "      <th>Longitude</th>\n",
       "    </tr>\n",
       "  </thead>\n",
       "  <tbody>\n",
       "    <tr>\n",
       "      <th>count</th>\n",
       "      <td>1.651200e+04</td>\n",
       "      <td>1.651200e+04</td>\n",
       "      <td>1.651200e+04</td>\n",
       "      <td>1.651200e+04</td>\n",
       "      <td>1.651200e+04</td>\n",
       "      <td>1.651200e+04</td>\n",
       "      <td>1.651200e+04</td>\n",
       "      <td>1.651200e+04</td>\n",
       "    </tr>\n",
       "    <tr>\n",
       "      <th>mean</th>\n",
       "      <td>-1.185045e-14</td>\n",
       "      <td>1.791203e-17</td>\n",
       "      <td>4.275757e-16</td>\n",
       "      <td>7.880028e-15</td>\n",
       "      <td>7.435106e-17</td>\n",
       "      <td>-5.212777e-16</td>\n",
       "      <td>-2.853101e-14</td>\n",
       "      <td>-9.037915e-14</td>\n",
       "    </tr>\n",
       "    <tr>\n",
       "      <th>std</th>\n",
       "      <td>1.000030e+00</td>\n",
       "      <td>1.000030e+00</td>\n",
       "      <td>1.000030e+00</td>\n",
       "      <td>1.000030e+00</td>\n",
       "      <td>1.000030e+00</td>\n",
       "      <td>1.000030e+00</td>\n",
       "      <td>1.000030e+00</td>\n",
       "      <td>1.000030e+00</td>\n",
       "    </tr>\n",
       "    <tr>\n",
       "      <th>min</th>\n",
       "      <td>-1.778723e+00</td>\n",
       "      <td>-2.192224e+00</td>\n",
       "      <td>-1.807465e+00</td>\n",
       "      <td>-1.479960e+00</td>\n",
       "      <td>-1.241308e+00</td>\n",
       "      <td>-2.076192e-01</td>\n",
       "      <td>-1.451797e+00</td>\n",
       "      <td>-2.375697e+00</td>\n",
       "    </tr>\n",
       "    <tr>\n",
       "      <th>25%</th>\n",
       "      <td>-6.874966e-01</td>\n",
       "      <td>-8.424648e-01</td>\n",
       "      <td>-3.921463e-01</td>\n",
       "      <td>-1.849649e-01</td>\n",
       "      <td>-5.583631e-01</td>\n",
       "      <td>-5.761108e-02</td>\n",
       "      <td>-8.006232e-01</td>\n",
       "      <td>-1.110895e+00</td>\n",
       "    </tr>\n",
       "    <tr>\n",
       "      <th>50%</th>\n",
       "      <td>-1.735328e-01</td>\n",
       "      <td>3.090890e-02</td>\n",
       "      <td>-7.842965e-02</td>\n",
       "      <td>-9.684730e-02</td>\n",
       "      <td>-2.264972e-01</td>\n",
       "      <td>-2.423779e-02</td>\n",
       "      <td>-6.460279e-01</td>\n",
       "      <td>5.323504e-01</td>\n",
       "    </tr>\n",
       "    <tr>\n",
       "      <th>75%</th>\n",
       "      <td>4.590340e-01</td>\n",
       "      <td>6.660898e-01</td>\n",
       "      <td>2.521028e-01</td>\n",
       "      <td>6.115062e-03</td>\n",
       "      <td>2.625683e-01</td>\n",
       "      <td>1.551034e-02</td>\n",
       "      <td>9.748799e-01</td>\n",
       "      <td>7.813271e-01</td>\n",
       "    </tr>\n",
       "    <tr>\n",
       "      <th>max</th>\n",
       "      <td>5.873187e+00</td>\n",
       "      <td>1.857054e+00</td>\n",
       "      <td>5.432682e+01</td>\n",
       "      <td>6.763182e+01</td>\n",
       "      <td>2.991828e+01</td>\n",
       "      <td>1.069193e+02</td>\n",
       "      <td>2.956510e+00</td>\n",
       "      <td>2.623754e+00</td>\n",
       "    </tr>\n",
       "  </tbody>\n",
       "</table>\n",
       "</div>"
      ],
      "text/plain": [
       "             MedInc      HouseAge      AveRooms     AveBedrms    Population  \\\n",
       "count  1.651200e+04  1.651200e+04  1.651200e+04  1.651200e+04  1.651200e+04   \n",
       "mean  -1.185045e-14  1.791203e-17  4.275757e-16  7.880028e-15  7.435106e-17   \n",
       "std    1.000030e+00  1.000030e+00  1.000030e+00  1.000030e+00  1.000030e+00   \n",
       "min   -1.778723e+00 -2.192224e+00 -1.807465e+00 -1.479960e+00 -1.241308e+00   \n",
       "25%   -6.874966e-01 -8.424648e-01 -3.921463e-01 -1.849649e-01 -5.583631e-01   \n",
       "50%   -1.735328e-01  3.090890e-02 -7.842965e-02 -9.684730e-02 -2.264972e-01   \n",
       "75%    4.590340e-01  6.660898e-01  2.521028e-01  6.115062e-03  2.625683e-01   \n",
       "max    5.873187e+00  1.857054e+00  5.432682e+01  6.763182e+01  2.991828e+01   \n",
       "\n",
       "           AveOccup      Latitude     Longitude  \n",
       "count  1.651200e+04  1.651200e+04  1.651200e+04  \n",
       "mean  -5.212777e-16 -2.853101e-14 -9.037915e-14  \n",
       "std    1.000030e+00  1.000030e+00  1.000030e+00  \n",
       "min   -2.076192e-01 -1.451797e+00 -2.375697e+00  \n",
       "25%   -5.761108e-02 -8.006232e-01 -1.110895e+00  \n",
       "50%   -2.423779e-02 -6.460279e-01  5.323504e-01  \n",
       "75%    1.551034e-02  9.748799e-01  7.813271e-01  \n",
       "max    1.069193e+02  2.956510e+00  2.623754e+00  "
      ]
     },
     "execution_count": 16,
     "metadata": {},
     "output_type": "execute_result"
    }
   ],
   "source": [
    "X_train, X_test, y_train, y_test = train_test_split(\n",
    "    housing.data, housing.target, test_size=0.2\n",
    ")\n",
    "scaler = StandardScaler()\n",
    "X_train = scaler.fit_transform(X_train)\n",
    "X_test = scaler.transform(X_test)\n",
    "\n",
    "pd.DataFrame(X_train, columns=housing.feature_names).describe()\n"
   ]
  },
  {
   "attachments": {},
   "cell_type": "markdown",
   "metadata": {},
   "source": [
    "## Objective Function\n",
    "\n",
    "To run hyperopt with cross-fold validation, almost all of the steps are the same.  All hyperopt is doing is changing values to minimize an objective, so I'm simply going to change the objective value to be mean CV score instead of loss on the validation set as it was above.  \n",
    "\n",
    "I'm going to import `fit_eval_log_cv()` from utils which was generalized from my [MLFlow workflow notebook](https://github.com/mcnewcp/keras-tune-workflow/blob/main/01-mlflow.ipynb) so I won't explain it further here.  It will handle the cross-fold validation and return mean CV score, as well as log all results to MLFlow."
   ]
  },
  {
   "cell_type": "code",
   "execution_count": 18,
   "metadata": {},
   "outputs": [],
   "source": [
    "from utils import fit_eval_log_cv\n",
    "from sklearn.model_selection import KFold\n",
    "\n",
    "kf = KFold(n_splits=5, shuffle=True, random_state=629)\n",
    "\n",
    "\n",
    "def objective(hyper_params):\n",
    "    model = build_model(**hyper_params)\n",
    "    run_name = \"test-hp-cv\"\n",
    "    mean_cv_loss = fit_eval_log_cv(\n",
    "        run_name=run_name,\n",
    "        X_train=X_train,\n",
    "        y_train=y_train,\n",
    "        model=model,\n",
    "        hyper_params=hyper_params,\n",
    "        kf=kf,\n",
    "    )\n",
    "    return {\"loss\": mean_cv_loss, \"status\": STATUS_OK}\n"
   ]
  },
  {
   "attachments": {},
   "cell_type": "markdown",
   "metadata": {},
   "source": [
    "## Minimize Objective\n",
    "\n",
    "Now this step is identical to before."
   ]
  },
  {
   "cell_type": "code",
   "execution_count": 19,
   "metadata": {},
   "outputs": [
    {
     "name": "stdout",
     "output_type": "stream",
     "text": [
      "1/1 [==============================] - ETA: 0s        \n",
      "1/1 [==============================] - 0s 183ms/step \n",
      "\n",
      "  0%|          | 0/10 [00:23<?, ?trial/s, best loss=?]"
     ]
    },
    {
     "name": "stderr",
     "output_type": "stream",
     "text": [
      "WARNING:absl:Found untraced functions such as _update_step_xla while saving (showing 1 of 1). These functions will not be directly callable after loading.\n",
      "\n"
     ]
    },
    {
     "name": "stdout",
     "output_type": "stream",
     "text": [
      "INFO:tensorflow:Assets written to: /var/folders/m8/0_prp1tj41s9n5xm0bfqp6wm0000gn/T/tmppl1dpa_5/model/data/model/assets\n"
     ]
    },
    {
     "name": "stderr",
     "output_type": "stream",
     "text": [
      "INFO:tensorflow:Assets written to: /var/folders/m8/0_prp1tj41s9n5xm0bfqp6wm0000gn/T/tmppl1dpa_5/model/data/model/assets\n",
      "\n"
     ]
    },
    {
     "name": "stdout",
     "output_type": "stream",
     "text": [
      "1/1 [==============================] - ETA: 0s        \n",
      "1/1 [==============================] - 0s 24ms/step  \n",
      "\n",
      "  0%|          | 0/10 [00:44<?, ?trial/s, best loss=?]"
     ]
    },
    {
     "name": "stderr",
     "output_type": "stream",
     "text": [
      "WARNING:absl:Found untraced functions such as _update_step_xla while saving (showing 1 of 1). These functions will not be directly callable after loading.\n",
      "\n"
     ]
    },
    {
     "name": "stdout",
     "output_type": "stream",
     "text": [
      "INFO:tensorflow:Assets written to: /var/folders/m8/0_prp1tj41s9n5xm0bfqp6wm0000gn/T/tmp0rjyv588/model/data/model/assets\n"
     ]
    },
    {
     "name": "stderr",
     "output_type": "stream",
     "text": [
      "INFO:tensorflow:Assets written to: /var/folders/m8/0_prp1tj41s9n5xm0bfqp6wm0000gn/T/tmp0rjyv588/model/data/model/assets\n",
      "\n"
     ]
    },
    {
     "name": "stdout",
     "output_type": "stream",
     "text": [
      "1/1 [==============================] - ETA: 0s        \n",
      "1/1 [==============================] - 0s 28ms/step  \n",
      "\n",
      "  0%|          | 0/10 [01:01<?, ?trial/s, best loss=?]"
     ]
    },
    {
     "name": "stderr",
     "output_type": "stream",
     "text": [
      "WARNING:absl:Found untraced functions such as _update_step_xla while saving (showing 1 of 1). These functions will not be directly callable after loading.\n",
      "\n"
     ]
    },
    {
     "name": "stdout",
     "output_type": "stream",
     "text": [
      "INFO:tensorflow:Assets written to: /var/folders/m8/0_prp1tj41s9n5xm0bfqp6wm0000gn/T/tmp8oscglar/model/data/model/assets\n"
     ]
    },
    {
     "name": "stderr",
     "output_type": "stream",
     "text": [
      "INFO:tensorflow:Assets written to: /var/folders/m8/0_prp1tj41s9n5xm0bfqp6wm0000gn/T/tmp8oscglar/model/data/model/assets\n",
      "\n"
     ]
    },
    {
     "name": "stdout",
     "output_type": "stream",
     "text": [
      "1/1 [==============================] - ETA: 0s        \n",
      "1/1 [==============================] - 0s 30ms/step  \n",
      "\n",
      "  0%|          | 0/10 [01:35<?, ?trial/s, best loss=?]"
     ]
    },
    {
     "name": "stderr",
     "output_type": "stream",
     "text": [
      "WARNING:absl:Found untraced functions such as _update_step_xla while saving (showing 1 of 1). These functions will not be directly callable after loading.\n",
      "\n"
     ]
    },
    {
     "name": "stdout",
     "output_type": "stream",
     "text": [
      "INFO:tensorflow:Assets written to: /var/folders/m8/0_prp1tj41s9n5xm0bfqp6wm0000gn/T/tmppzm8qzb3/model/data/model/assets\n"
     ]
    },
    {
     "name": "stderr",
     "output_type": "stream",
     "text": [
      "INFO:tensorflow:Assets written to: /var/folders/m8/0_prp1tj41s9n5xm0bfqp6wm0000gn/T/tmppzm8qzb3/model/data/model/assets\n",
      "\n"
     ]
    },
    {
     "name": "stdout",
     "output_type": "stream",
     "text": [
      "1/1 [==============================] - ETA: 0s        \n",
      "1/1 [==============================] - 0s 28ms/step  \n",
      "\n",
      "  0%|          | 0/10 [02:04<?, ?trial/s, best loss=?]"
     ]
    },
    {
     "name": "stderr",
     "output_type": "stream",
     "text": [
      "WARNING:absl:Found untraced functions such as _update_step_xla while saving (showing 1 of 1). These functions will not be directly callable after loading.\n",
      "\n"
     ]
    },
    {
     "name": "stdout",
     "output_type": "stream",
     "text": [
      "INFO:tensorflow:Assets written to: /var/folders/m8/0_prp1tj41s9n5xm0bfqp6wm0000gn/T/tmp5ato78sy/model/data/model/assets\n"
     ]
    },
    {
     "name": "stderr",
     "output_type": "stream",
     "text": [
      "INFO:tensorflow:Assets written to: /var/folders/m8/0_prp1tj41s9n5xm0bfqp6wm0000gn/T/tmp5ato78sy/model/data/model/assets\n",
      "\n"
     ]
    },
    {
     "name": "stdout",
     "output_type": "stream",
     "text": [
      "1/1 [==============================] - ETA: 0s                                   \n",
      "1/1 [==============================] - 0s 106ms/step                            \n",
      "\n",
      " 10%|█         | 1/10 [02:34<20:26, 136.30s/trial, best loss: 0.6017773389816284]"
     ]
    },
    {
     "name": "stderr",
     "output_type": "stream",
     "text": [
      "WARNING:absl:Found untraced functions such as _update_step_xla while saving (showing 1 of 1). These functions will not be directly callable after loading.\n",
      "\n"
     ]
    },
    {
     "name": "stdout",
     "output_type": "stream",
     "text": [
      "INFO:tensorflow:Assets written to: /var/folders/m8/0_prp1tj41s9n5xm0bfqp6wm0000gn/T/tmpa2rnufu2/model/data/model/assets\n"
     ]
    },
    {
     "name": "stderr",
     "output_type": "stream",
     "text": [
      "INFO:tensorflow:Assets written to: /var/folders/m8/0_prp1tj41s9n5xm0bfqp6wm0000gn/T/tmpa2rnufu2/model/data/model/assets\n",
      "\n"
     ]
    },
    {
     "name": "stdout",
     "output_type": "stream",
     "text": [
      "1/1 [==============================] - ETA: 0s                                   \n",
      "1/1 [==============================] - 0s 30ms/step                             \n",
      "\n",
      " 10%|█         | 1/10 [03:02<20:26, 136.30s/trial, best loss: 0.6017773389816284]"
     ]
    },
    {
     "name": "stderr",
     "output_type": "stream",
     "text": [
      "WARNING:absl:Found untraced functions such as _update_step_xla while saving (showing 1 of 1). These functions will not be directly callable after loading.\n",
      "\n"
     ]
    },
    {
     "name": "stdout",
     "output_type": "stream",
     "text": [
      "INFO:tensorflow:Assets written to: /var/folders/m8/0_prp1tj41s9n5xm0bfqp6wm0000gn/T/tmpvvrxde4_/model/data/model/assets\n"
     ]
    },
    {
     "name": "stderr",
     "output_type": "stream",
     "text": [
      "INFO:tensorflow:Assets written to: /var/folders/m8/0_prp1tj41s9n5xm0bfqp6wm0000gn/T/tmpvvrxde4_/model/data/model/assets\n",
      "\n"
     ]
    },
    {
     "name": "stdout",
     "output_type": "stream",
     "text": [
      "1/1 [==============================] - ETA: 0s                                   \n",
      "1/1 [==============================] - 0s 24ms/step                             \n",
      "\n",
      " 10%|█         | 1/10 [03:29<20:26, 136.30s/trial, best loss: 0.6017773389816284]"
     ]
    },
    {
     "name": "stderr",
     "output_type": "stream",
     "text": [
      "WARNING:absl:Found untraced functions such as _update_step_xla while saving (showing 1 of 1). These functions will not be directly callable after loading.\n",
      "\n"
     ]
    },
    {
     "name": "stdout",
     "output_type": "stream",
     "text": [
      "INFO:tensorflow:Assets written to: /var/folders/m8/0_prp1tj41s9n5xm0bfqp6wm0000gn/T/tmpx35cjc33/model/data/model/assets\n"
     ]
    },
    {
     "name": "stderr",
     "output_type": "stream",
     "text": [
      "INFO:tensorflow:Assets written to: /var/folders/m8/0_prp1tj41s9n5xm0bfqp6wm0000gn/T/tmpx35cjc33/model/data/model/assets\n",
      "\n"
     ]
    },
    {
     "name": "stdout",
     "output_type": "stream",
     "text": [
      "1/1 [==============================] - ETA: 0s                                   \n",
      "1/1 [==============================] - 0s 23ms/step                             \n",
      "\n",
      " 10%|█         | 1/10 [03:42<20:26, 136.30s/trial, best loss: 0.6017773389816284]"
     ]
    },
    {
     "name": "stderr",
     "output_type": "stream",
     "text": [
      "WARNING:absl:Found untraced functions such as _update_step_xla while saving (showing 1 of 1). These functions will not be directly callable after loading.\n",
      "\n"
     ]
    },
    {
     "name": "stdout",
     "output_type": "stream",
     "text": [
      "INFO:tensorflow:Assets written to: /var/folders/m8/0_prp1tj41s9n5xm0bfqp6wm0000gn/T/tmpvz7mtko7/model/data/model/assets\n"
     ]
    },
    {
     "name": "stderr",
     "output_type": "stream",
     "text": [
      "INFO:tensorflow:Assets written to: /var/folders/m8/0_prp1tj41s9n5xm0bfqp6wm0000gn/T/tmpvz7mtko7/model/data/model/assets\n",
      "\n"
     ]
    },
    {
     "name": "stdout",
     "output_type": "stream",
     "text": [
      "1/1 [==============================] - ETA: 0s                                   \n",
      "1/1 [==============================] - 0s 22ms/step                             \n",
      "\n",
      " 10%|█         | 1/10 [04:07<20:26, 136.30s/trial, best loss: 0.6017773389816284]"
     ]
    },
    {
     "name": "stderr",
     "output_type": "stream",
     "text": [
      "WARNING:absl:Found untraced functions such as _update_step_xla while saving (showing 1 of 1). These functions will not be directly callable after loading.\n",
      "\n"
     ]
    },
    {
     "name": "stdout",
     "output_type": "stream",
     "text": [
      "INFO:tensorflow:Assets written to: /var/folders/m8/0_prp1tj41s9n5xm0bfqp6wm0000gn/T/tmpvvkcn5en/model/data/model/assets\n"
     ]
    },
    {
     "name": "stderr",
     "output_type": "stream",
     "text": [
      "INFO:tensorflow:Assets written to: /var/folders/m8/0_prp1tj41s9n5xm0bfqp6wm0000gn/T/tmpvvkcn5en/model/data/model/assets\n",
      "\n"
     ]
    },
    {
     "name": "stdout",
     "output_type": "stream",
     "text": [
      "1/1 [==============================] - ETA: 0s                                   \n",
      "1/1 [==============================] - 0s 101ms/step                            \n",
      "\n",
      " 20%|██        | 2/10 [04:33<16:52, 126.60s/trial, best loss: 0.3705196738243103]"
     ]
    },
    {
     "name": "stderr",
     "output_type": "stream",
     "text": [
      "WARNING:absl:Found untraced functions such as _update_step_xla while saving (showing 1 of 1). These functions will not be directly callable after loading.\n",
      "\n"
     ]
    },
    {
     "name": "stdout",
     "output_type": "stream",
     "text": [
      "INFO:tensorflow:Assets written to: /var/folders/m8/0_prp1tj41s9n5xm0bfqp6wm0000gn/T/tmpxkz590zi/model/data/model/assets\n"
     ]
    },
    {
     "name": "stderr",
     "output_type": "stream",
     "text": [
      "INFO:tensorflow:Assets written to: /var/folders/m8/0_prp1tj41s9n5xm0bfqp6wm0000gn/T/tmpxkz590zi/model/data/model/assets\n",
      "\n"
     ]
    },
    {
     "name": "stdout",
     "output_type": "stream",
     "text": [
      "1/1 [==============================] - ETA: 0s                                   \n",
      "1/1 [==============================] - 0s 25ms/step                             \n",
      "\n",
      " 20%|██        | 2/10 [04:59<16:52, 126.60s/trial, best loss: 0.3705196738243103]"
     ]
    },
    {
     "name": "stderr",
     "output_type": "stream",
     "text": [
      "WARNING:absl:Found untraced functions such as _update_step_xla while saving (showing 1 of 1). These functions will not be directly callable after loading.\n",
      "\n"
     ]
    },
    {
     "name": "stdout",
     "output_type": "stream",
     "text": [
      "INFO:tensorflow:Assets written to: /var/folders/m8/0_prp1tj41s9n5xm0bfqp6wm0000gn/T/tmpvy0aezge/model/data/model/assets\n"
     ]
    },
    {
     "name": "stderr",
     "output_type": "stream",
     "text": [
      "INFO:tensorflow:Assets written to: /var/folders/m8/0_prp1tj41s9n5xm0bfqp6wm0000gn/T/tmpvy0aezge/model/data/model/assets\n",
      "\n"
     ]
    },
    {
     "name": "stdout",
     "output_type": "stream",
     "text": [
      "1/1 [==============================] - ETA: 0s                                   \n",
      "1/1 [==============================] - 0s 25ms/step                             \n",
      "\n",
      " 20%|██        | 2/10 [05:28<16:52, 126.60s/trial, best loss: 0.3705196738243103]"
     ]
    },
    {
     "name": "stderr",
     "output_type": "stream",
     "text": [
      "WARNING:absl:Found untraced functions such as _update_step_xla while saving (showing 1 of 1). These functions will not be directly callable after loading.\n",
      "\n"
     ]
    },
    {
     "name": "stdout",
     "output_type": "stream",
     "text": [
      "INFO:tensorflow:Assets written to: /var/folders/m8/0_prp1tj41s9n5xm0bfqp6wm0000gn/T/tmpk4_fjgya/model/data/model/assets\n"
     ]
    },
    {
     "name": "stderr",
     "output_type": "stream",
     "text": [
      "INFO:tensorflow:Assets written to: /var/folders/m8/0_prp1tj41s9n5xm0bfqp6wm0000gn/T/tmpk4_fjgya/model/data/model/assets\n",
      "\n"
     ]
    },
    {
     "name": "stdout",
     "output_type": "stream",
     "text": [
      "1/1 [==============================] - ETA: 0s                                   \n",
      "1/1 [==============================] - 0s 39ms/step                             \n",
      "\n",
      " 20%|██        | 2/10 [05:51<16:52, 126.60s/trial, best loss: 0.3705196738243103]"
     ]
    },
    {
     "name": "stderr",
     "output_type": "stream",
     "text": [
      "WARNING:absl:Found untraced functions such as _update_step_xla while saving (showing 1 of 1). These functions will not be directly callable after loading.\n",
      "\n"
     ]
    },
    {
     "name": "stdout",
     "output_type": "stream",
     "text": [
      "INFO:tensorflow:Assets written to: /var/folders/m8/0_prp1tj41s9n5xm0bfqp6wm0000gn/T/tmpl7m_mykn/model/data/model/assets\n"
     ]
    },
    {
     "name": "stderr",
     "output_type": "stream",
     "text": [
      "INFO:tensorflow:Assets written to: /var/folders/m8/0_prp1tj41s9n5xm0bfqp6wm0000gn/T/tmpl7m_mykn/model/data/model/assets\n",
      "\n"
     ]
    },
    {
     "name": "stdout",
     "output_type": "stream",
     "text": [
      "1/1 [==============================] - ETA: 0s                                   \n",
      "1/1 [==============================] - 0s 26ms/step                             \n",
      "\n",
      " 20%|██        | 2/10 [06:18<16:52, 126.60s/trial, best loss: 0.3705196738243103]"
     ]
    },
    {
     "name": "stderr",
     "output_type": "stream",
     "text": [
      "WARNING:absl:Found untraced functions such as _update_step_xla while saving (showing 1 of 1). These functions will not be directly callable after loading.\n",
      "\n"
     ]
    },
    {
     "name": "stdout",
     "output_type": "stream",
     "text": [
      "INFO:tensorflow:Assets written to: /var/folders/m8/0_prp1tj41s9n5xm0bfqp6wm0000gn/T/tmpmtwilw_j/model/data/model/assets\n"
     ]
    },
    {
     "name": "stderr",
     "output_type": "stream",
     "text": [
      "INFO:tensorflow:Assets written to: /var/folders/m8/0_prp1tj41s9n5xm0bfqp6wm0000gn/T/tmpmtwilw_j/model/data/model/assets\n",
      "\n"
     ]
    },
    {
     "name": "stdout",
     "output_type": "stream",
     "text": [
      "1/1 [==============================] - ETA: 0s                                   \n",
      "1/1 [==============================] - 0s 62ms/step                             \n",
      "\n",
      " 30%|███       | 3/10 [06:46<15:14, 130.64s/trial, best loss: 0.3317412555217743]"
     ]
    },
    {
     "name": "stderr",
     "output_type": "stream",
     "text": [
      "WARNING:absl:Found untraced functions such as _update_step_xla while saving (showing 1 of 1). These functions will not be directly callable after loading.\n",
      "\n"
     ]
    },
    {
     "name": "stdout",
     "output_type": "stream",
     "text": [
      "INFO:tensorflow:Assets written to: /var/folders/m8/0_prp1tj41s9n5xm0bfqp6wm0000gn/T/tmpc8o8hpk_/model/data/model/assets\n"
     ]
    },
    {
     "name": "stderr",
     "output_type": "stream",
     "text": [
      "INFO:tensorflow:Assets written to: /var/folders/m8/0_prp1tj41s9n5xm0bfqp6wm0000gn/T/tmpc8o8hpk_/model/data/model/assets\n",
      "\n"
     ]
    },
    {
     "name": "stdout",
     "output_type": "stream",
     "text": [
      "1/1 [==============================] - ETA: 0s                                   \n",
      "1/1 [==============================] - 0s 22ms/step                             \n",
      "\n",
      " 30%|███       | 3/10 [07:10<15:14, 130.64s/trial, best loss: 0.3317412555217743]"
     ]
    },
    {
     "name": "stderr",
     "output_type": "stream",
     "text": [
      "WARNING:absl:Found untraced functions such as _update_step_xla while saving (showing 1 of 1). These functions will not be directly callable after loading.\n",
      "\n"
     ]
    },
    {
     "name": "stdout",
     "output_type": "stream",
     "text": [
      "INFO:tensorflow:Assets written to: /var/folders/m8/0_prp1tj41s9n5xm0bfqp6wm0000gn/T/tmphu800wh4/model/data/model/assets\n"
     ]
    },
    {
     "name": "stderr",
     "output_type": "stream",
     "text": [
      "INFO:tensorflow:Assets written to: /var/folders/m8/0_prp1tj41s9n5xm0bfqp6wm0000gn/T/tmphu800wh4/model/data/model/assets\n",
      "\n"
     ]
    },
    {
     "name": "stdout",
     "output_type": "stream",
     "text": [
      "1/1 [==============================] - ETA: 0s                                   \n",
      "1/1 [==============================] - 0s 22ms/step                             \n",
      "\n",
      " 30%|███       | 3/10 [07:36<15:14, 130.64s/trial, best loss: 0.3317412555217743]"
     ]
    },
    {
     "name": "stderr",
     "output_type": "stream",
     "text": [
      "WARNING:absl:Found untraced functions such as _update_step_xla while saving (showing 1 of 1). These functions will not be directly callable after loading.\n",
      "\n"
     ]
    },
    {
     "name": "stdout",
     "output_type": "stream",
     "text": [
      "INFO:tensorflow:Assets written to: /var/folders/m8/0_prp1tj41s9n5xm0bfqp6wm0000gn/T/tmpmdhhastq/model/data/model/assets\n"
     ]
    },
    {
     "name": "stderr",
     "output_type": "stream",
     "text": [
      "INFO:tensorflow:Assets written to: /var/folders/m8/0_prp1tj41s9n5xm0bfqp6wm0000gn/T/tmpmdhhastq/model/data/model/assets\n",
      "\n"
     ]
    },
    {
     "name": "stdout",
     "output_type": "stream",
     "text": [
      "1/1 [==============================] - ETA: 0s                                   \n",
      "1/1 [==============================] - 0s 26ms/step                             \n",
      "\n",
      " 30%|███       | 3/10 [08:02<15:14, 130.64s/trial, best loss: 0.3317412555217743]"
     ]
    },
    {
     "name": "stderr",
     "output_type": "stream",
     "text": [
      "WARNING:absl:Found untraced functions such as _update_step_xla while saving (showing 1 of 1). These functions will not be directly callable after loading.\n",
      "\n"
     ]
    },
    {
     "name": "stdout",
     "output_type": "stream",
     "text": [
      "INFO:tensorflow:Assets written to: /var/folders/m8/0_prp1tj41s9n5xm0bfqp6wm0000gn/T/tmp88r1ahf_/model/data/model/assets\n"
     ]
    },
    {
     "name": "stderr",
     "output_type": "stream",
     "text": [
      "INFO:tensorflow:Assets written to: /var/folders/m8/0_prp1tj41s9n5xm0bfqp6wm0000gn/T/tmp88r1ahf_/model/data/model/assets\n",
      "\n"
     ]
    },
    {
     "name": "stdout",
     "output_type": "stream",
     "text": [
      "1/1 [==============================] - ETA: 0s                                   \n",
      "1/1 [==============================] - 0s 26ms/step                             \n",
      "\n",
      " 30%|███       | 3/10 [08:26<15:14, 130.64s/trial, best loss: 0.3317412555217743]"
     ]
    },
    {
     "name": "stderr",
     "output_type": "stream",
     "text": [
      "WARNING:absl:Found untraced functions such as _update_step_xla while saving (showing 1 of 1). These functions will not be directly callable after loading.\n",
      "\n"
     ]
    },
    {
     "name": "stdout",
     "output_type": "stream",
     "text": [
      "INFO:tensorflow:Assets written to: /var/folders/m8/0_prp1tj41s9n5xm0bfqp6wm0000gn/T/tmpw64inujz/model/data/model/assets\n"
     ]
    },
    {
     "name": "stderr",
     "output_type": "stream",
     "text": [
      "INFO:tensorflow:Assets written to: /var/folders/m8/0_prp1tj41s9n5xm0bfqp6wm0000gn/T/tmpw64inujz/model/data/model/assets\n",
      "\n"
     ]
    },
    {
     "name": "stdout",
     "output_type": "stream",
     "text": [
      "1/1 [==============================] - ETA: 0s                                   \n",
      "1/1 [==============================] - 0s 69ms/step                             \n",
      "\n",
      " 40%|████      | 4/10 [08:52<12:52, 128.72s/trial, best loss: 0.3317412555217743]"
     ]
    },
    {
     "name": "stderr",
     "output_type": "stream",
     "text": [
      "WARNING:absl:Found untraced functions such as _update_step_xla while saving (showing 1 of 1). These functions will not be directly callable after loading.\n",
      "\n"
     ]
    },
    {
     "name": "stdout",
     "output_type": "stream",
     "text": [
      "INFO:tensorflow:Assets written to: /var/folders/m8/0_prp1tj41s9n5xm0bfqp6wm0000gn/T/tmpnqwcn1ny/model/data/model/assets\n"
     ]
    },
    {
     "name": "stderr",
     "output_type": "stream",
     "text": [
      "INFO:tensorflow:Assets written to: /var/folders/m8/0_prp1tj41s9n5xm0bfqp6wm0000gn/T/tmpnqwcn1ny/model/data/model/assets\n",
      "\n"
     ]
    },
    {
     "name": "stdout",
     "output_type": "stream",
     "text": [
      "1/1 [==============================] - ETA: 0s                                   \n",
      "1/1 [==============================] - 0s 24ms/step                             \n",
      "\n",
      " 40%|████      | 4/10 [09:04<12:52, 128.72s/trial, best loss: 0.3317412555217743]"
     ]
    },
    {
     "name": "stderr",
     "output_type": "stream",
     "text": [
      "WARNING:absl:Found untraced functions such as _update_step_xla while saving (showing 1 of 1). These functions will not be directly callable after loading.\n",
      "\n"
     ]
    },
    {
     "name": "stdout",
     "output_type": "stream",
     "text": [
      "INFO:tensorflow:Assets written to: /var/folders/m8/0_prp1tj41s9n5xm0bfqp6wm0000gn/T/tmpq8w1rvhp/model/data/model/assets\n"
     ]
    },
    {
     "name": "stderr",
     "output_type": "stream",
     "text": [
      "INFO:tensorflow:Assets written to: /var/folders/m8/0_prp1tj41s9n5xm0bfqp6wm0000gn/T/tmpq8w1rvhp/model/data/model/assets\n",
      "\n"
     ]
    },
    {
     "name": "stdout",
     "output_type": "stream",
     "text": [
      "1/1 [==============================] - ETA: 0s                                   \n",
      "1/1 [==============================] - 0s 23ms/step                             \n",
      "\n",
      " 40%|████      | 4/10 [09:21<12:52, 128.72s/trial, best loss: 0.3317412555217743]"
     ]
    },
    {
     "name": "stderr",
     "output_type": "stream",
     "text": [
      "WARNING:absl:Found untraced functions such as _update_step_xla while saving (showing 1 of 1). These functions will not be directly callable after loading.\n",
      "\n"
     ]
    },
    {
     "name": "stdout",
     "output_type": "stream",
     "text": [
      "INFO:tensorflow:Assets written to: /var/folders/m8/0_prp1tj41s9n5xm0bfqp6wm0000gn/T/tmpun1xfsux/model/data/model/assets\n"
     ]
    },
    {
     "name": "stderr",
     "output_type": "stream",
     "text": [
      "INFO:tensorflow:Assets written to: /var/folders/m8/0_prp1tj41s9n5xm0bfqp6wm0000gn/T/tmpun1xfsux/model/data/model/assets\n",
      "\n"
     ]
    },
    {
     "name": "stdout",
     "output_type": "stream",
     "text": [
      "1/1 [==============================] - ETA: 0s                                   \n",
      "1/1 [==============================] - 0s 24ms/step                             \n",
      "\n",
      " 40%|████      | 4/10 [09:37<12:52, 128.72s/trial, best loss: 0.3317412555217743]"
     ]
    },
    {
     "name": "stderr",
     "output_type": "stream",
     "text": [
      "WARNING:absl:Found untraced functions such as _update_step_xla while saving (showing 1 of 1). These functions will not be directly callable after loading.\n",
      "\n"
     ]
    },
    {
     "name": "stdout",
     "output_type": "stream",
     "text": [
      "INFO:tensorflow:Assets written to: /var/folders/m8/0_prp1tj41s9n5xm0bfqp6wm0000gn/T/tmpnei5o_gg/model/data/model/assets\n"
     ]
    },
    {
     "name": "stderr",
     "output_type": "stream",
     "text": [
      "INFO:tensorflow:Assets written to: /var/folders/m8/0_prp1tj41s9n5xm0bfqp6wm0000gn/T/tmpnei5o_gg/model/data/model/assets\n",
      "\n"
     ]
    },
    {
     "name": "stdout",
     "output_type": "stream",
     "text": [
      "1/1 [==============================] - ETA: 0s                                   \n",
      "1/1 [==============================] - 0s 24ms/step                             \n",
      "\n",
      " 40%|████      | 4/10 [09:51<12:52, 128.72s/trial, best loss: 0.3317412555217743]"
     ]
    },
    {
     "name": "stderr",
     "output_type": "stream",
     "text": [
      "WARNING:absl:Found untraced functions such as _update_step_xla while saving (showing 1 of 1). These functions will not be directly callable after loading.\n",
      "\n"
     ]
    },
    {
     "name": "stdout",
     "output_type": "stream",
     "text": [
      "INFO:tensorflow:Assets written to: /var/folders/m8/0_prp1tj41s9n5xm0bfqp6wm0000gn/T/tmpnnm8eba7/model/data/model/assets\n"
     ]
    },
    {
     "name": "stderr",
     "output_type": "stream",
     "text": [
      "INFO:tensorflow:Assets written to: /var/folders/m8/0_prp1tj41s9n5xm0bfqp6wm0000gn/T/tmpnnm8eba7/model/data/model/assets\n",
      "\n"
     ]
    },
    {
     "name": "stdout",
     "output_type": "stream",
     "text": [
      "1/1 [==============================] - ETA: 0s                                   \n",
      "1/1 [==============================] - 0s 102ms/step                            \n",
      "\n",
      " 50%|█████     | 5/10 [10:18<09:21, 112.39s/trial, best loss: 0.3317412555217743]"
     ]
    },
    {
     "name": "stderr",
     "output_type": "stream",
     "text": [
      "WARNING:absl:Found untraced functions such as _update_step_xla while saving (showing 1 of 1). These functions will not be directly callable after loading.\n",
      "\n"
     ]
    },
    {
     "name": "stdout",
     "output_type": "stream",
     "text": [
      "INFO:tensorflow:Assets written to: /var/folders/m8/0_prp1tj41s9n5xm0bfqp6wm0000gn/T/tmpvcd2pqos/model/data/model/assets\n"
     ]
    },
    {
     "name": "stderr",
     "output_type": "stream",
     "text": [
      "INFO:tensorflow:Assets written to: /var/folders/m8/0_prp1tj41s9n5xm0bfqp6wm0000gn/T/tmpvcd2pqos/model/data/model/assets\n",
      "\n"
     ]
    },
    {
     "name": "stdout",
     "output_type": "stream",
     "text": [
      "1/1 [==============================] - ETA: 0s                                   \n",
      "1/1 [==============================] - 0s 23ms/step                             \n",
      "\n",
      " 50%|█████     | 5/10 [10:42<09:21, 112.39s/trial, best loss: 0.3317412555217743]"
     ]
    },
    {
     "name": "stderr",
     "output_type": "stream",
     "text": [
      "WARNING:absl:Found untraced functions such as _update_step_xla while saving (showing 1 of 1). These functions will not be directly callable after loading.\n",
      "\n"
     ]
    },
    {
     "name": "stdout",
     "output_type": "stream",
     "text": [
      "INFO:tensorflow:Assets written to: /var/folders/m8/0_prp1tj41s9n5xm0bfqp6wm0000gn/T/tmp2z2t21w_/model/data/model/assets\n"
     ]
    },
    {
     "name": "stderr",
     "output_type": "stream",
     "text": [
      "INFO:tensorflow:Assets written to: /var/folders/m8/0_prp1tj41s9n5xm0bfqp6wm0000gn/T/tmp2z2t21w_/model/data/model/assets\n",
      "\n"
     ]
    },
    {
     "name": "stdout",
     "output_type": "stream",
     "text": [
      "1/1 [==============================] - ETA: 0s                                   \n",
      "1/1 [==============================] - 0s 27ms/step                             \n",
      "\n",
      " 50%|█████     | 5/10 [10:56<09:21, 112.39s/trial, best loss: 0.3317412555217743]"
     ]
    },
    {
     "name": "stderr",
     "output_type": "stream",
     "text": [
      "WARNING:absl:Found untraced functions such as _update_step_xla while saving (showing 1 of 1). These functions will not be directly callable after loading.\n",
      "\n"
     ]
    },
    {
     "name": "stdout",
     "output_type": "stream",
     "text": [
      "INFO:tensorflow:Assets written to: /var/folders/m8/0_prp1tj41s9n5xm0bfqp6wm0000gn/T/tmpcb5qkm5x/model/data/model/assets\n"
     ]
    },
    {
     "name": "stderr",
     "output_type": "stream",
     "text": [
      "INFO:tensorflow:Assets written to: /var/folders/m8/0_prp1tj41s9n5xm0bfqp6wm0000gn/T/tmpcb5qkm5x/model/data/model/assets\n",
      "\n"
     ]
    },
    {
     "name": "stdout",
     "output_type": "stream",
     "text": [
      "1/1 [==============================] - ETA: 0s                                   \n",
      "1/1 [==============================] - 0s 24ms/step                             \n",
      "\n",
      " 50%|█████     | 5/10 [11:19<09:21, 112.39s/trial, best loss: 0.3317412555217743]"
     ]
    },
    {
     "name": "stderr",
     "output_type": "stream",
     "text": [
      "WARNING:absl:Found untraced functions such as _update_step_xla while saving (showing 1 of 1). These functions will not be directly callable after loading.\n",
      "\n"
     ]
    },
    {
     "name": "stdout",
     "output_type": "stream",
     "text": [
      "INFO:tensorflow:Assets written to: /var/folders/m8/0_prp1tj41s9n5xm0bfqp6wm0000gn/T/tmppsjs40mz/model/data/model/assets\n"
     ]
    },
    {
     "name": "stderr",
     "output_type": "stream",
     "text": [
      "INFO:tensorflow:Assets written to: /var/folders/m8/0_prp1tj41s9n5xm0bfqp6wm0000gn/T/tmppsjs40mz/model/data/model/assets\n",
      "\n"
     ]
    },
    {
     "name": "stdout",
     "output_type": "stream",
     "text": [
      "1/1 [==============================] - ETA: 0s                                   \n",
      "1/1 [==============================] - 0s 21ms/step                             \n",
      "\n",
      " 50%|█████     | 5/10 [11:33<09:21, 112.39s/trial, best loss: 0.3317412555217743]"
     ]
    },
    {
     "name": "stderr",
     "output_type": "stream",
     "text": [
      "WARNING:absl:Found untraced functions such as _update_step_xla while saving (showing 1 of 1). These functions will not be directly callable after loading.\n",
      "\n"
     ]
    },
    {
     "name": "stdout",
     "output_type": "stream",
     "text": [
      "INFO:tensorflow:Assets written to: /var/folders/m8/0_prp1tj41s9n5xm0bfqp6wm0000gn/T/tmpmc5frrkb/model/data/model/assets\n"
     ]
    },
    {
     "name": "stderr",
     "output_type": "stream",
     "text": [
      "INFO:tensorflow:Assets written to: /var/folders/m8/0_prp1tj41s9n5xm0bfqp6wm0000gn/T/tmpmc5frrkb/model/data/model/assets\n",
      "\n"
     ]
    },
    {
     "name": "stdout",
     "output_type": "stream",
     "text": [
      "1/1 [==============================] - ETA: 0s                                   \n",
      "1/1 [==============================] - 0s 90ms/step                             \n",
      "\n",
      " 60%|██████    | 6/10 [11:59<07:15, 108.86s/trial, best loss: 0.3258852243423462]"
     ]
    },
    {
     "name": "stderr",
     "output_type": "stream",
     "text": [
      "WARNING:absl:Found untraced functions such as _update_step_xla while saving (showing 1 of 1). These functions will not be directly callable after loading.\n",
      "\n"
     ]
    },
    {
     "name": "stdout",
     "output_type": "stream",
     "text": [
      "INFO:tensorflow:Assets written to: /var/folders/m8/0_prp1tj41s9n5xm0bfqp6wm0000gn/T/tmpa9cf0zoh/model/data/model/assets\n"
     ]
    },
    {
     "name": "stderr",
     "output_type": "stream",
     "text": [
      "INFO:tensorflow:Assets written to: /var/folders/m8/0_prp1tj41s9n5xm0bfqp6wm0000gn/T/tmpa9cf0zoh/model/data/model/assets\n",
      "\n"
     ]
    },
    {
     "name": "stdout",
     "output_type": "stream",
     "text": [
      "1/1 [==============================] - ETA: 0s                                   \n",
      "1/1 [==============================] - 0s 21ms/step                             \n",
      "\n",
      " 60%|██████    | 6/10 [12:23<07:15, 108.86s/trial, best loss: 0.3258852243423462]"
     ]
    },
    {
     "name": "stderr",
     "output_type": "stream",
     "text": [
      "WARNING:absl:Found untraced functions such as _update_step_xla while saving (showing 1 of 1). These functions will not be directly callable after loading.\n",
      "\n"
     ]
    },
    {
     "name": "stdout",
     "output_type": "stream",
     "text": [
      "INFO:tensorflow:Assets written to: /var/folders/m8/0_prp1tj41s9n5xm0bfqp6wm0000gn/T/tmpadxgrm15/model/data/model/assets\n"
     ]
    },
    {
     "name": "stderr",
     "output_type": "stream",
     "text": [
      "INFO:tensorflow:Assets written to: /var/folders/m8/0_prp1tj41s9n5xm0bfqp6wm0000gn/T/tmpadxgrm15/model/data/model/assets\n",
      "\n"
     ]
    },
    {
     "name": "stdout",
     "output_type": "stream",
     "text": [
      "1/1 [==============================] - ETA: 0s                                   \n",
      "1/1 [==============================] - 0s 31ms/step                             \n",
      "\n",
      " 60%|██████    | 6/10 [12:43<07:15, 108.86s/trial, best loss: 0.3258852243423462]"
     ]
    },
    {
     "name": "stderr",
     "output_type": "stream",
     "text": [
      "WARNING:absl:Found untraced functions such as _update_step_xla while saving (showing 1 of 1). These functions will not be directly callable after loading.\n",
      "\n"
     ]
    },
    {
     "name": "stdout",
     "output_type": "stream",
     "text": [
      "INFO:tensorflow:Assets written to: /var/folders/m8/0_prp1tj41s9n5xm0bfqp6wm0000gn/T/tmpt4cq_p4n/model/data/model/assets\n"
     ]
    },
    {
     "name": "stderr",
     "output_type": "stream",
     "text": [
      "INFO:tensorflow:Assets written to: /var/folders/m8/0_prp1tj41s9n5xm0bfqp6wm0000gn/T/tmpt4cq_p4n/model/data/model/assets\n",
      "\n"
     ]
    },
    {
     "name": "stdout",
     "output_type": "stream",
     "text": [
      "1/1 [==============================] - ETA: 0s                                   \n",
      "1/1 [==============================] - 0s 52ms/step                             \n",
      "\n",
      " 60%|██████    | 6/10 [13:08<07:15, 108.86s/trial, best loss: 0.3258852243423462]"
     ]
    },
    {
     "name": "stderr",
     "output_type": "stream",
     "text": [
      "WARNING:absl:Found untraced functions such as _update_step_xla while saving (showing 1 of 1). These functions will not be directly callable after loading.\n",
      "\n"
     ]
    },
    {
     "name": "stdout",
     "output_type": "stream",
     "text": [
      "INFO:tensorflow:Assets written to: /var/folders/m8/0_prp1tj41s9n5xm0bfqp6wm0000gn/T/tmpimen2jdi/model/data/model/assets\n"
     ]
    },
    {
     "name": "stderr",
     "output_type": "stream",
     "text": [
      "INFO:tensorflow:Assets written to: /var/folders/m8/0_prp1tj41s9n5xm0bfqp6wm0000gn/T/tmpimen2jdi/model/data/model/assets\n",
      "\n"
     ]
    },
    {
     "name": "stdout",
     "output_type": "stream",
     "text": [
      "1/1 [==============================] - ETA: 0s                                   \n",
      "1/1 [==============================] - 0s 27ms/step                             \n",
      "\n",
      " 60%|██████    | 6/10 [13:34<07:15, 108.86s/trial, best loss: 0.3258852243423462]"
     ]
    },
    {
     "name": "stderr",
     "output_type": "stream",
     "text": [
      "WARNING:absl:Found untraced functions such as _update_step_xla while saving (showing 1 of 1). These functions will not be directly callable after loading.\n",
      "\n"
     ]
    },
    {
     "name": "stdout",
     "output_type": "stream",
     "text": [
      "INFO:tensorflow:Assets written to: /var/folders/m8/0_prp1tj41s9n5xm0bfqp6wm0000gn/T/tmpmcq_z4xj/model/data/model/assets\n"
     ]
    },
    {
     "name": "stderr",
     "output_type": "stream",
     "text": [
      "INFO:tensorflow:Assets written to: /var/folders/m8/0_prp1tj41s9n5xm0bfqp6wm0000gn/T/tmpmcq_z4xj/model/data/model/assets\n",
      "\n"
     ]
    },
    {
     "name": "stdout",
     "output_type": "stream",
     "text": [
      "1/1 [==============================] - ETA: 0s                                   \n",
      "1/1 [==============================] - 0s 139ms/step                            \n",
      "\n",
      " 70%|███████   | 7/10 [14:06<05:40, 113.40s/trial, best loss: 0.3258852243423462]"
     ]
    },
    {
     "name": "stderr",
     "output_type": "stream",
     "text": [
      "WARNING:absl:Found untraced functions such as _update_step_xla while saving (showing 1 of 1). These functions will not be directly callable after loading.\n",
      "\n"
     ]
    },
    {
     "name": "stdout",
     "output_type": "stream",
     "text": [
      "INFO:tensorflow:Assets written to: /var/folders/m8/0_prp1tj41s9n5xm0bfqp6wm0000gn/T/tmpj6ox521w/model/data/model/assets\n"
     ]
    },
    {
     "name": "stderr",
     "output_type": "stream",
     "text": [
      "INFO:tensorflow:Assets written to: /var/folders/m8/0_prp1tj41s9n5xm0bfqp6wm0000gn/T/tmpj6ox521w/model/data/model/assets\n",
      "\n"
     ]
    },
    {
     "name": "stdout",
     "output_type": "stream",
     "text": [
      "1/1 [==============================] - ETA: 0s                                   \n",
      "1/1 [==============================] - 0s 32ms/step                             \n",
      "\n",
      " 70%|███████   | 7/10 [14:39<05:40, 113.40s/trial, best loss: 0.3258852243423462]"
     ]
    },
    {
     "name": "stderr",
     "output_type": "stream",
     "text": [
      "WARNING:absl:Found untraced functions such as _update_step_xla while saving (showing 1 of 1). These functions will not be directly callable after loading.\n",
      "\n"
     ]
    },
    {
     "name": "stdout",
     "output_type": "stream",
     "text": [
      "INFO:tensorflow:Assets written to: /var/folders/m8/0_prp1tj41s9n5xm0bfqp6wm0000gn/T/tmplol5usba/model/data/model/assets\n"
     ]
    },
    {
     "name": "stderr",
     "output_type": "stream",
     "text": [
      "INFO:tensorflow:Assets written to: /var/folders/m8/0_prp1tj41s9n5xm0bfqp6wm0000gn/T/tmplol5usba/model/data/model/assets\n",
      "\n"
     ]
    },
    {
     "name": "stdout",
     "output_type": "stream",
     "text": [
      "1/1 [==============================] - ETA: 0s                                   \n",
      "1/1 [==============================] - 0s 31ms/step                             \n",
      "\n",
      " 70%|███████   | 7/10 [15:11<05:40, 113.40s/trial, best loss: 0.3258852243423462]"
     ]
    },
    {
     "name": "stderr",
     "output_type": "stream",
     "text": [
      "WARNING:absl:Found untraced functions such as _update_step_xla while saving (showing 1 of 1). These functions will not be directly callable after loading.\n",
      "\n"
     ]
    },
    {
     "name": "stdout",
     "output_type": "stream",
     "text": [
      "INFO:tensorflow:Assets written to: /var/folders/m8/0_prp1tj41s9n5xm0bfqp6wm0000gn/T/tmph1nnw2ov/model/data/model/assets\n"
     ]
    },
    {
     "name": "stderr",
     "output_type": "stream",
     "text": [
      "INFO:tensorflow:Assets written to: /var/folders/m8/0_prp1tj41s9n5xm0bfqp6wm0000gn/T/tmph1nnw2ov/model/data/model/assets\n",
      "\n"
     ]
    },
    {
     "name": "stdout",
     "output_type": "stream",
     "text": [
      "1/1 [==============================] - ETA: 0s                                   \n",
      "1/1 [==============================] - 0s 33ms/step                             \n",
      "\n",
      " 70%|███████   | 7/10 [15:41<05:40, 113.40s/trial, best loss: 0.3258852243423462]"
     ]
    },
    {
     "name": "stderr",
     "output_type": "stream",
     "text": [
      "WARNING:absl:Found untraced functions such as _update_step_xla while saving (showing 1 of 1). These functions will not be directly callable after loading.\n",
      "\n"
     ]
    },
    {
     "name": "stdout",
     "output_type": "stream",
     "text": [
      "INFO:tensorflow:Assets written to: /var/folders/m8/0_prp1tj41s9n5xm0bfqp6wm0000gn/T/tmpa7evm721/model/data/model/assets\n"
     ]
    },
    {
     "name": "stderr",
     "output_type": "stream",
     "text": [
      "INFO:tensorflow:Assets written to: /var/folders/m8/0_prp1tj41s9n5xm0bfqp6wm0000gn/T/tmpa7evm721/model/data/model/assets\n",
      "\n"
     ]
    },
    {
     "name": "stdout",
     "output_type": "stream",
     "text": [
      "1/1 [==============================] - ETA: 0s                                   \n",
      "1/1 [==============================] - 0s 32ms/step                             \n",
      "\n",
      " 70%|███████   | 7/10 [15:57<05:40, 113.40s/trial, best loss: 0.3258852243423462]"
     ]
    },
    {
     "name": "stderr",
     "output_type": "stream",
     "text": [
      "WARNING:absl:Found untraced functions such as _update_step_xla while saving (showing 1 of 1). These functions will not be directly callable after loading.\n",
      "\n"
     ]
    },
    {
     "name": "stdout",
     "output_type": "stream",
     "text": [
      "INFO:tensorflow:Assets written to: /var/folders/m8/0_prp1tj41s9n5xm0bfqp6wm0000gn/T/tmps1fjoxc2/model/data/model/assets\n"
     ]
    },
    {
     "name": "stderr",
     "output_type": "stream",
     "text": [
      "INFO:tensorflow:Assets written to: /var/folders/m8/0_prp1tj41s9n5xm0bfqp6wm0000gn/T/tmps1fjoxc2/model/data/model/assets\n",
      "\n"
     ]
    },
    {
     "name": "stdout",
     "output_type": "stream",
     "text": [
      "1/1 [==============================] - ETA: 0s                                   \n",
      "1/1 [==============================] - 0s 89ms/step                             \n",
      "\n",
      " 80%|████████  | 8/10 [16:28<04:06, 123.06s/trial, best loss: 0.3258852243423462]"
     ]
    },
    {
     "name": "stderr",
     "output_type": "stream",
     "text": [
      "WARNING:absl:Found untraced functions such as _update_step_xla while saving (showing 1 of 1). These functions will not be directly callable after loading.\n",
      "\n"
     ]
    },
    {
     "name": "stdout",
     "output_type": "stream",
     "text": [
      "INFO:tensorflow:Assets written to: /var/folders/m8/0_prp1tj41s9n5xm0bfqp6wm0000gn/T/tmp78kd4_nm/model/data/model/assets\n"
     ]
    },
    {
     "name": "stderr",
     "output_type": "stream",
     "text": [
      "INFO:tensorflow:Assets written to: /var/folders/m8/0_prp1tj41s9n5xm0bfqp6wm0000gn/T/tmp78kd4_nm/model/data/model/assets\n",
      "\n"
     ]
    },
    {
     "name": "stdout",
     "output_type": "stream",
     "text": [
      "1/1 [==============================] - ETA: 0s                                   \n",
      "1/1 [==============================] - 0s 29ms/step                             \n",
      "\n",
      " 80%|████████  | 8/10 [16:58<04:06, 123.06s/trial, best loss: 0.3258852243423462]"
     ]
    },
    {
     "name": "stderr",
     "output_type": "stream",
     "text": [
      "WARNING:absl:Found untraced functions such as _update_step_xla while saving (showing 1 of 1). These functions will not be directly callable after loading.\n",
      "\n"
     ]
    },
    {
     "name": "stdout",
     "output_type": "stream",
     "text": [
      "INFO:tensorflow:Assets written to: /var/folders/m8/0_prp1tj41s9n5xm0bfqp6wm0000gn/T/tmpv_2kd9_9/model/data/model/assets\n"
     ]
    },
    {
     "name": "stderr",
     "output_type": "stream",
     "text": [
      "INFO:tensorflow:Assets written to: /var/folders/m8/0_prp1tj41s9n5xm0bfqp6wm0000gn/T/tmpv_2kd9_9/model/data/model/assets\n",
      "\n"
     ]
    },
    {
     "name": "stdout",
     "output_type": "stream",
     "text": [
      "1/1 [==============================] - ETA: 0s                                   \n",
      "1/1 [==============================] - 0s 34ms/step                             \n",
      "\n",
      " 80%|████████  | 8/10 [17:27<04:06, 123.06s/trial, best loss: 0.3258852243423462]"
     ]
    },
    {
     "name": "stderr",
     "output_type": "stream",
     "text": [
      "WARNING:absl:Found untraced functions such as _update_step_xla while saving (showing 1 of 1). These functions will not be directly callable after loading.\n",
      "\n"
     ]
    },
    {
     "name": "stdout",
     "output_type": "stream",
     "text": [
      "INFO:tensorflow:Assets written to: /var/folders/m8/0_prp1tj41s9n5xm0bfqp6wm0000gn/T/tmpngsah_p3/model/data/model/assets\n"
     ]
    },
    {
     "name": "stderr",
     "output_type": "stream",
     "text": [
      "INFO:tensorflow:Assets written to: /var/folders/m8/0_prp1tj41s9n5xm0bfqp6wm0000gn/T/tmpngsah_p3/model/data/model/assets\n",
      "\n"
     ]
    },
    {
     "name": "stdout",
     "output_type": "stream",
     "text": [
      "1/1 [==============================] - ETA: 0s                                   \n",
      "1/1 [==============================] - 0s 31ms/step                             \n",
      "\n",
      " 80%|████████  | 8/10 [17:48<04:06, 123.06s/trial, best loss: 0.3258852243423462]"
     ]
    },
    {
     "name": "stderr",
     "output_type": "stream",
     "text": [
      "WARNING:absl:Found untraced functions such as _update_step_xla while saving (showing 1 of 1). These functions will not be directly callable after loading.\n",
      "\n"
     ]
    },
    {
     "name": "stdout",
     "output_type": "stream",
     "text": [
      "INFO:tensorflow:Assets written to: /var/folders/m8/0_prp1tj41s9n5xm0bfqp6wm0000gn/T/tmpp9jfm4l0/model/data/model/assets\n"
     ]
    },
    {
     "name": "stderr",
     "output_type": "stream",
     "text": [
      "INFO:tensorflow:Assets written to: /var/folders/m8/0_prp1tj41s9n5xm0bfqp6wm0000gn/T/tmpp9jfm4l0/model/data/model/assets\n",
      "\n"
     ]
    },
    {
     "name": "stdout",
     "output_type": "stream",
     "text": [
      "1/1 [==============================] - ETA: 0s                                   \n",
      "1/1 [==============================] - 0s 29ms/step                             \n",
      "\n",
      " 80%|████████  | 8/10 [18:17<04:06, 123.06s/trial, best loss: 0.3258852243423462]"
     ]
    },
    {
     "name": "stderr",
     "output_type": "stream",
     "text": [
      "WARNING:absl:Found untraced functions such as _update_step_xla while saving (showing 1 of 1). These functions will not be directly callable after loading.\n",
      "\n"
     ]
    },
    {
     "name": "stdout",
     "output_type": "stream",
     "text": [
      "INFO:tensorflow:Assets written to: /var/folders/m8/0_prp1tj41s9n5xm0bfqp6wm0000gn/T/tmpys38w3nj/model/data/model/assets\n"
     ]
    },
    {
     "name": "stderr",
     "output_type": "stream",
     "text": [
      "INFO:tensorflow:Assets written to: /var/folders/m8/0_prp1tj41s9n5xm0bfqp6wm0000gn/T/tmpys38w3nj/model/data/model/assets\n",
      "\n"
     ]
    },
    {
     "name": "stdout",
     "output_type": "stream",
     "text": [
      "1/1 [==============================] - ETA: 0s                                   \n",
      "1/1 [==============================] - 0s 145ms/step                            \n",
      "\n",
      " 90%|█████████ | 9/10 [18:51<02:07, 127.89s/trial, best loss: 0.3258852243423462]"
     ]
    },
    {
     "name": "stderr",
     "output_type": "stream",
     "text": [
      "WARNING:absl:Found untraced functions such as _update_step_xla while saving (showing 1 of 1). These functions will not be directly callable after loading.\n",
      "\n"
     ]
    },
    {
     "name": "stdout",
     "output_type": "stream",
     "text": [
      "INFO:tensorflow:Assets written to: /var/folders/m8/0_prp1tj41s9n5xm0bfqp6wm0000gn/T/tmpmqss22om/model/data/model/assets\n"
     ]
    },
    {
     "name": "stderr",
     "output_type": "stream",
     "text": [
      "INFO:tensorflow:Assets written to: /var/folders/m8/0_prp1tj41s9n5xm0bfqp6wm0000gn/T/tmpmqss22om/model/data/model/assets\n",
      "\n"
     ]
    },
    {
     "name": "stdout",
     "output_type": "stream",
     "text": [
      "1/1 [==============================] - ETA: 0s                                   \n",
      "1/1 [==============================] - 0s 29ms/step                             \n",
      "\n",
      " 90%|█████████ | 9/10 [19:26<02:07, 127.89s/trial, best loss: 0.3258852243423462]"
     ]
    },
    {
     "name": "stderr",
     "output_type": "stream",
     "text": [
      "WARNING:absl:Found untraced functions such as _update_step_xla while saving (showing 1 of 1). These functions will not be directly callable after loading.\n",
      "\n"
     ]
    },
    {
     "name": "stdout",
     "output_type": "stream",
     "text": [
      "INFO:tensorflow:Assets written to: /var/folders/m8/0_prp1tj41s9n5xm0bfqp6wm0000gn/T/tmpzbok_h7b/model/data/model/assets\n"
     ]
    },
    {
     "name": "stderr",
     "output_type": "stream",
     "text": [
      "INFO:tensorflow:Assets written to: /var/folders/m8/0_prp1tj41s9n5xm0bfqp6wm0000gn/T/tmpzbok_h7b/model/data/model/assets\n",
      "\n"
     ]
    },
    {
     "name": "stdout",
     "output_type": "stream",
     "text": [
      "1/1 [==============================] - ETA: 0s                                   \n",
      "1/1 [==============================] - 0s 30ms/step                             \n",
      "\n",
      " 90%|█████████ | 9/10 [20:00<02:07, 127.89s/trial, best loss: 0.3258852243423462]"
     ]
    },
    {
     "name": "stderr",
     "output_type": "stream",
     "text": [
      "WARNING:absl:Found untraced functions such as _update_step_xla while saving (showing 1 of 1). These functions will not be directly callable after loading.\n",
      "\n"
     ]
    },
    {
     "name": "stdout",
     "output_type": "stream",
     "text": [
      "INFO:tensorflow:Assets written to: /var/folders/m8/0_prp1tj41s9n5xm0bfqp6wm0000gn/T/tmp9lof3tgn/model/data/model/assets\n"
     ]
    },
    {
     "name": "stderr",
     "output_type": "stream",
     "text": [
      "INFO:tensorflow:Assets written to: /var/folders/m8/0_prp1tj41s9n5xm0bfqp6wm0000gn/T/tmp9lof3tgn/model/data/model/assets\n",
      "\n"
     ]
    },
    {
     "name": "stdout",
     "output_type": "stream",
     "text": [
      "1/1 [==============================] - ETA: 0s                                   \n",
      "1/1 [==============================] - 0s 28ms/step                             \n",
      "\n",
      " 90%|█████████ | 9/10 [20:19<02:07, 127.89s/trial, best loss: 0.3258852243423462]"
     ]
    },
    {
     "name": "stderr",
     "output_type": "stream",
     "text": [
      "WARNING:absl:Found untraced functions such as _update_step_xla while saving (showing 1 of 1). These functions will not be directly callable after loading.\n",
      "\n"
     ]
    },
    {
     "name": "stdout",
     "output_type": "stream",
     "text": [
      "INFO:tensorflow:Assets written to: /var/folders/m8/0_prp1tj41s9n5xm0bfqp6wm0000gn/T/tmpa1iht81s/model/data/model/assets\n"
     ]
    },
    {
     "name": "stderr",
     "output_type": "stream",
     "text": [
      "INFO:tensorflow:Assets written to: /var/folders/m8/0_prp1tj41s9n5xm0bfqp6wm0000gn/T/tmpa1iht81s/model/data/model/assets\n",
      "\n"
     ]
    },
    {
     "name": "stdout",
     "output_type": "stream",
     "text": [
      "1/1 [==============================] - ETA: 0s                                   \n",
      "1/1 [==============================] - 0s 30ms/step                             \n",
      "\n",
      " 90%|█████████ | 9/10 [20:39<02:07, 127.89s/trial, best loss: 0.3258852243423462]"
     ]
    },
    {
     "name": "stderr",
     "output_type": "stream",
     "text": [
      "WARNING:absl:Found untraced functions such as _update_step_xla while saving (showing 1 of 1). These functions will not be directly callable after loading.\n",
      "\n"
     ]
    },
    {
     "name": "stdout",
     "output_type": "stream",
     "text": [
      "INFO:tensorflow:Assets written to: /var/folders/m8/0_prp1tj41s9n5xm0bfqp6wm0000gn/T/tmp7dcazo6u/model/data/model/assets\n"
     ]
    },
    {
     "name": "stderr",
     "output_type": "stream",
     "text": [
      "INFO:tensorflow:Assets written to: /var/folders/m8/0_prp1tj41s9n5xm0bfqp6wm0000gn/T/tmp7dcazo6u/model/data/model/assets\n",
      "\n"
     ]
    },
    {
     "name": "stdout",
     "output_type": "stream",
     "text": [
      "100%|██████████| 10/10 [20:51<00:00, 125.18s/trial, best loss: 0.3258852243423462]\n"
     ]
    }
   ],
   "source": [
    "trials = Trials()\n",
    "best = fmin(\n",
    "    fn=objective,\n",
    "    space=hyper_params,\n",
    "    algo=tpe.suggest,\n",
    "    max_evals=10,\n",
    "    trials=trials,\n",
    "    verbose=1,\n",
    ")\n"
   ]
  },
  {
   "attachments": {},
   "cell_type": "markdown",
   "metadata": {},
   "source": [
    "## Evaluate Results\n",
    "\n",
    "This step is also identical."
   ]
  },
  {
   "cell_type": "code",
   "execution_count": 20,
   "metadata": {},
   "outputs": [
    {
     "name": "stdout",
     "output_type": "stream",
     "text": [
      "best hyperparameters: {'activation': 'relu', 'n_hidden': 8, 'n_neurons': 34}\n"
     ]
    }
   ],
   "source": [
    "# find best parameters\n",
    "best_params = space_eval(hyper_params, best)\n",
    "print(f\"best hyperparameters: {best_params}\")\n",
    "\n",
    "# build best model\n",
    "best_mod = build_model(**best_params)\n"
   ]
  },
  {
   "cell_type": "code",
   "execution_count": 21,
   "metadata": {},
   "outputs": [],
   "source": [
    "import pickle\n",
    "\n",
    "# save trials object\n",
    "pickle.dump(trials, open(\"./hp-trials/test-trial-cv.p\", \"wb\"))\n",
    "\n",
    "# to load\n",
    "# check = pickle.load(open('./hp-trials/test-trial-cv.p', 'rb'))\n"
   ]
  },
  {
   "cell_type": "code",
   "execution_count": 22,
   "metadata": {},
   "outputs": [
    {
     "data": {
      "image/png": "[encoded data removed]",
      "text/plain": [
       "<Figure size 640x480 with 1 Axes>"
      ]
     },
     "metadata": {},
     "output_type": "display_data"
    }
   ],
   "source": [
    "import matplotlib.pyplot as plt\n",
    "\n",
    "# plot time series of validation losses\n",
    "losses = [r[\"loss\"] for r in trials.results]\n",
    "plt.plot(losses)\n",
    "plt.axhline(min(losses), c=\"r\")\n",
    "\n",
    "plt.title(\"test experiment\")\n",
    "plt.xlabel(\"hp trial\")\n",
    "plt.ylabel(\"loss (MSE)\")\n",
    "plt.show()\n"
   ]
  }
 ],
 "metadata": {
  "kernelspec": {
   "display_name": "Python 3",
   "language": "python",
   "name": "python3"
  },
  "language_info": {
   "codemirror_mode": {
    "name": "ipython",
    "version": 3
   },
   "file_extension": ".py",
   "mimetype": "text/x-python",
   "name": "python",
   "nbconvert_exporter": "python",
   "pygments_lexer": "ipython3",
   "version": "3.9.16"
  },
  "orig_nbformat": 4,
  "vscode": {
   "interpreter": {
    "hash": "b06340917b32c233dd2dc2960a5f67050ebf8c214e1ba3d4b841fb841861705b"
   }
  }
 },
 "nbformat": 4,
 "nbformat_minor": 2
}
